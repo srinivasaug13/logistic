{
 "cells": [
  {
   "cell_type": "code",
   "execution_count": 1,
   "metadata": {
    "collapsed": false
   },
   "outputs": [
    {
     "data": {
      "text/plain": [
       "'\\nCreated on Sun Jul 16 12:57:57 2017\\n@author: Rajesh Jakhotia\\n@company: K2 Analytics Finishing School Pvt. Ltd.\\n@website: k2analytics.co.in\\n@email: ar.jakhotia@k2analytics.co.in\\n'"
      ]
     },
     "execution_count": 1,
     "metadata": {},
     "output_type": "execute_result"
    }
   ],
   "source": [
    "# -*- coding: utf-8 -*-\n",
    "\"\"\"\n",
    "Created on Sun Jul 16 12:57:57 2017\n",
    "@author: Rajesh Jakhotia\n",
    "@company: K2 Analytics Finishing School Pvt. Ltd.\n",
    "@website: k2analytics.co.in\n",
    "@email: ar.jakhotia@k2analytics.co.in\n",
    "\"\"\""
   ]
  },
  {
   "cell_type": "code",
   "execution_count": 2,
   "metadata": {
    "collapsed": false
   },
   "outputs": [],
   "source": [
    "##Import the packages\n",
    "import pandas as pd\n",
    "import numpy as np\n",
    "import matplotlib.pyplot as plt\n",
    "import os\n",
    "\n",
    "import matplotlib.pyplot as plt\n",
    "%matplotlib inline"
   ]
  },
  {
   "cell_type": "code",
   "execution_count": 3,
   "metadata": {
    "collapsed": false
   },
   "outputs": [],
   "source": [
    "os.chdir(\"d:/K2Analytics/Datafile\") \n",
    "os.getcwd()\n",
    "LR_DF = pd.read_csv(\"LR_DF.csv\")"
   ]
  },
  {
   "cell_type": "code",
   "execution_count": 4,
   "metadata": {
    "collapsed": false
   },
   "outputs": [
    {
     "data": {
      "text/html": [
       "<div>\n",
       "<table border=\"1\" class=\"dataframe\">\n",
       "  <thead>\n",
       "    <tr style=\"text-align: right;\">\n",
       "      <th></th>\n",
       "      <th>Cust_ID</th>\n",
       "      <th>Target</th>\n",
       "      <th>Age</th>\n",
       "      <th>Gender</th>\n",
       "      <th>Balance</th>\n",
       "      <th>Occupation</th>\n",
       "      <th>No_OF_CR_TXNS</th>\n",
       "      <th>AGE_BKT</th>\n",
       "      <th>SCR</th>\n",
       "      <th>Holding_Period</th>\n",
       "    </tr>\n",
       "  </thead>\n",
       "  <tbody>\n",
       "    <tr>\n",
       "      <th>0</th>\n",
       "      <td>C1</td>\n",
       "      <td>0</td>\n",
       "      <td>30</td>\n",
       "      <td>M</td>\n",
       "      <td>160378.60</td>\n",
       "      <td>SAL</td>\n",
       "      <td>2</td>\n",
       "      <td>26-30</td>\n",
       "      <td>826</td>\n",
       "      <td>9.0</td>\n",
       "    </tr>\n",
       "    <tr>\n",
       "      <th>1</th>\n",
       "      <td>C10</td>\n",
       "      <td>1</td>\n",
       "      <td>41</td>\n",
       "      <td>M</td>\n",
       "      <td>84370.59</td>\n",
       "      <td>PROF</td>\n",
       "      <td>14</td>\n",
       "      <td>41-45</td>\n",
       "      <td>843</td>\n",
       "      <td>9.0</td>\n",
       "    </tr>\n",
       "    <tr>\n",
       "      <th>2</th>\n",
       "      <td>C100</td>\n",
       "      <td>0</td>\n",
       "      <td>49</td>\n",
       "      <td>F</td>\n",
       "      <td>60849.26</td>\n",
       "      <td>PROF</td>\n",
       "      <td>49</td>\n",
       "      <td>46-50</td>\n",
       "      <td>328</td>\n",
       "      <td>26.0</td>\n",
       "    </tr>\n",
       "    <tr>\n",
       "      <th>3</th>\n",
       "      <td>C1000</td>\n",
       "      <td>0</td>\n",
       "      <td>49</td>\n",
       "      <td>M</td>\n",
       "      <td>10558.81</td>\n",
       "      <td>SAL</td>\n",
       "      <td>23</td>\n",
       "      <td>46-50</td>\n",
       "      <td>619</td>\n",
       "      <td>19.0</td>\n",
       "    </tr>\n",
       "    <tr>\n",
       "      <th>4</th>\n",
       "      <td>C10000</td>\n",
       "      <td>0</td>\n",
       "      <td>43</td>\n",
       "      <td>M</td>\n",
       "      <td>97100.48</td>\n",
       "      <td>NaN</td>\n",
       "      <td>3</td>\n",
       "      <td>41-45</td>\n",
       "      <td>397</td>\n",
       "      <td>8.0</td>\n",
       "    </tr>\n",
       "  </tbody>\n",
       "</table>\n",
       "</div>"
      ],
      "text/plain": [
       "  Cust_ID  Target  Age Gender    Balance Occupation  No_OF_CR_TXNS AGE_BKT  \\\n",
       "0      C1       0   30      M  160378.60        SAL              2   26-30   \n",
       "1     C10       1   41      M   84370.59       PROF             14   41-45   \n",
       "2    C100       0   49      F   60849.26       PROF             49   46-50   \n",
       "3   C1000       0   49      M   10558.81        SAL             23   46-50   \n",
       "4  C10000       0   43      M   97100.48        NaN              3   41-45   \n",
       "\n",
       "   SCR  Holding_Period  \n",
       "0  826             9.0  \n",
       "1  843             9.0  \n",
       "2  328            26.0  \n",
       "3  619            19.0  \n",
       "4  397             8.0  "
      ]
     },
     "execution_count": 4,
     "metadata": {},
     "output_type": "execute_result"
    }
   ],
   "source": [
    "LR_DF.head()"
   ]
  },
  {
   "cell_type": "code",
   "execution_count": 5,
   "metadata": {
    "collapsed": false
   },
   "outputs": [
    {
     "name": "stderr",
     "output_type": "stream",
     "text": [
      "C:\\Program Files\\Anaconda3\\lib\\site-packages\\numpy\\lib\\function_base.py:3834: RuntimeWarning: Invalid value encountered in percentile\n",
      "  RuntimeWarning)\n"
     ]
    },
    {
     "data": {
      "text/html": [
       "<div>\n",
       "<table border=\"1\" class=\"dataframe\">\n",
       "  <thead>\n",
       "    <tr style=\"text-align: right;\">\n",
       "      <th></th>\n",
       "      <th>Cust_ID</th>\n",
       "      <th>Target</th>\n",
       "      <th>Age</th>\n",
       "      <th>Gender</th>\n",
       "      <th>Balance</th>\n",
       "      <th>Occupation</th>\n",
       "      <th>No_OF_CR_TXNS</th>\n",
       "      <th>AGE_BKT</th>\n",
       "      <th>SCR</th>\n",
       "      <th>Holding_Period</th>\n",
       "    </tr>\n",
       "  </thead>\n",
       "  <tbody>\n",
       "    <tr>\n",
       "      <th>count</th>\n",
       "      <td>20000</td>\n",
       "      <td>20000.000000</td>\n",
       "      <td>20000.000000</td>\n",
       "      <td>20000</td>\n",
       "      <td>2.000000e+04</td>\n",
       "      <td>15360</td>\n",
       "      <td>20000.00000</td>\n",
       "      <td>20000</td>\n",
       "      <td>20000.000000</td>\n",
       "      <td>19000.000000</td>\n",
       "    </tr>\n",
       "    <tr>\n",
       "      <th>unique</th>\n",
       "      <td>20000</td>\n",
       "      <td>NaN</td>\n",
       "      <td>NaN</td>\n",
       "      <td>3</td>\n",
       "      <td>NaN</td>\n",
       "      <td>4</td>\n",
       "      <td>NaN</td>\n",
       "      <td>7</td>\n",
       "      <td>NaN</td>\n",
       "      <td>NaN</td>\n",
       "    </tr>\n",
       "    <tr>\n",
       "      <th>top</th>\n",
       "      <td>C5679</td>\n",
       "      <td>NaN</td>\n",
       "      <td>NaN</td>\n",
       "      <td>M</td>\n",
       "      <td>NaN</td>\n",
       "      <td>SAL</td>\n",
       "      <td>NaN</td>\n",
       "      <td>31-35</td>\n",
       "      <td>NaN</td>\n",
       "      <td>NaN</td>\n",
       "    </tr>\n",
       "    <tr>\n",
       "      <th>freq</th>\n",
       "      <td>1</td>\n",
       "      <td>NaN</td>\n",
       "      <td>NaN</td>\n",
       "      <td>14279</td>\n",
       "      <td>NaN</td>\n",
       "      <td>5908</td>\n",
       "      <td>NaN</td>\n",
       "      <td>3488</td>\n",
       "      <td>NaN</td>\n",
       "      <td>NaN</td>\n",
       "    </tr>\n",
       "    <tr>\n",
       "      <th>mean</th>\n",
       "      <td>NaN</td>\n",
       "      <td>0.044400</td>\n",
       "      <td>38.396200</td>\n",
       "      <td>NaN</td>\n",
       "      <td>1.461813e+05</td>\n",
       "      <td>NaN</td>\n",
       "      <td>16.61795</td>\n",
       "      <td>NaN</td>\n",
       "      <td>557.136050</td>\n",
       "      <td>15.199737</td>\n",
       "    </tr>\n",
       "    <tr>\n",
       "      <th>std</th>\n",
       "      <td>NaN</td>\n",
       "      <td>0.205987</td>\n",
       "      <td>9.600179</td>\n",
       "      <td>NaN</td>\n",
       "      <td>1.698125e+05</td>\n",
       "      <td>NaN</td>\n",
       "      <td>12.96995</td>\n",
       "      <td>NaN</td>\n",
       "      <td>260.521453</td>\n",
       "      <td>9.239180</td>\n",
       "    </tr>\n",
       "    <tr>\n",
       "      <th>min</th>\n",
       "      <td>NaN</td>\n",
       "      <td>0.000000</td>\n",
       "      <td>21.000000</td>\n",
       "      <td>NaN</td>\n",
       "      <td>0.000000e+00</td>\n",
       "      <td>NaN</td>\n",
       "      <td>0.00000</td>\n",
       "      <td>NaN</td>\n",
       "      <td>100.000000</td>\n",
       "      <td>0.000000</td>\n",
       "    </tr>\n",
       "    <tr>\n",
       "      <th>25%</th>\n",
       "      <td>NaN</td>\n",
       "      <td>0.000000</td>\n",
       "      <td>30.000000</td>\n",
       "      <td>NaN</td>\n",
       "      <td>2.373692e+04</td>\n",
       "      <td>NaN</td>\n",
       "      <td>7.00000</td>\n",
       "      <td>NaN</td>\n",
       "      <td>333.000000</td>\n",
       "      <td>NaN</td>\n",
       "    </tr>\n",
       "    <tr>\n",
       "      <th>50%</th>\n",
       "      <td>NaN</td>\n",
       "      <td>0.000000</td>\n",
       "      <td>38.000000</td>\n",
       "      <td>NaN</td>\n",
       "      <td>7.975574e+04</td>\n",
       "      <td>NaN</td>\n",
       "      <td>13.00000</td>\n",
       "      <td>NaN</td>\n",
       "      <td>560.000000</td>\n",
       "      <td>NaN</td>\n",
       "    </tr>\n",
       "    <tr>\n",
       "      <th>75%</th>\n",
       "      <td>NaN</td>\n",
       "      <td>0.000000</td>\n",
       "      <td>47.000000</td>\n",
       "      <td>NaN</td>\n",
       "      <td>2.173106e+05</td>\n",
       "      <td>NaN</td>\n",
       "      <td>21.00000</td>\n",
       "      <td>NaN</td>\n",
       "      <td>784.000000</td>\n",
       "      <td>NaN</td>\n",
       "    </tr>\n",
       "    <tr>\n",
       "      <th>max</th>\n",
       "      <td>NaN</td>\n",
       "      <td>1.000000</td>\n",
       "      <td>55.000000</td>\n",
       "      <td>NaN</td>\n",
       "      <td>1.246967e+06</td>\n",
       "      <td>NaN</td>\n",
       "      <td>50.00000</td>\n",
       "      <td>NaN</td>\n",
       "      <td>999.000000</td>\n",
       "      <td>31.000000</td>\n",
       "    </tr>\n",
       "  </tbody>\n",
       "</table>\n",
       "</div>"
      ],
      "text/plain": [
       "       Cust_ID        Target           Age Gender       Balance Occupation  \\\n",
       "count    20000  20000.000000  20000.000000  20000  2.000000e+04      15360   \n",
       "unique   20000           NaN           NaN      3           NaN          4   \n",
       "top      C5679           NaN           NaN      M           NaN        SAL   \n",
       "freq         1           NaN           NaN  14279           NaN       5908   \n",
       "mean       NaN      0.044400     38.396200    NaN  1.461813e+05        NaN   \n",
       "std        NaN      0.205987      9.600179    NaN  1.698125e+05        NaN   \n",
       "min        NaN      0.000000     21.000000    NaN  0.000000e+00        NaN   \n",
       "25%        NaN      0.000000     30.000000    NaN  2.373692e+04        NaN   \n",
       "50%        NaN      0.000000     38.000000    NaN  7.975574e+04        NaN   \n",
       "75%        NaN      0.000000     47.000000    NaN  2.173106e+05        NaN   \n",
       "max        NaN      1.000000     55.000000    NaN  1.246967e+06        NaN   \n",
       "\n",
       "        No_OF_CR_TXNS AGE_BKT           SCR  Holding_Period  \n",
       "count     20000.00000   20000  20000.000000    19000.000000  \n",
       "unique            NaN       7           NaN             NaN  \n",
       "top               NaN   31-35           NaN             NaN  \n",
       "freq              NaN    3488           NaN             NaN  \n",
       "mean         16.61795     NaN    557.136050       15.199737  \n",
       "std          12.96995     NaN    260.521453        9.239180  \n",
       "min           0.00000     NaN    100.000000        0.000000  \n",
       "25%           7.00000     NaN    333.000000             NaN  \n",
       "50%          13.00000     NaN    560.000000             NaN  \n",
       "75%          21.00000     NaN    784.000000             NaN  \n",
       "max          50.00000     NaN    999.000000       31.000000  "
      ]
     },
     "execution_count": 5,
     "metadata": {},
     "output_type": "execute_result"
    }
   ],
   "source": [
    "#Summary statistics\n",
    "LR_DF.describe(include = \"all\")\n",
    "##LR_DF.dropna().describe()"
   ]
  },
  {
   "cell_type": "code",
   "execution_count": 6,
   "metadata": {
    "collapsed": false
   },
   "outputs": [
    {
     "data": {
      "text/plain": [
       "0.01    21.0\n",
       "0.05    24.0\n",
       "0.10    26.0\n",
       "0.25    30.0\n",
       "0.50    38.0\n",
       "0.75    47.0\n",
       "0.90    52.0\n",
       "0.95    54.0\n",
       "0.99    55.0\n",
       "1.00    55.0\n",
       "Name: Age, dtype: float64"
      ]
     },
     "execution_count": 6,
     "metadata": {},
     "output_type": "execute_result"
    }
   ],
   "source": [
    "#Getting percentile distribution\n",
    "LR_DF[\"Age\"].quantile([0.01,0.05,0.1,\n",
    "     0.25,0.5,0.75,0.9,0.95,0.99,1])"
   ]
  },
  {
   "cell_type": "code",
   "execution_count": 7,
   "metadata": {
    "collapsed": false
   },
   "outputs": [
    {
     "data": {
      "text/plain": [
       "array([  0.,   2.,   6.,   9.,  12.,  15.,  18.,  21.,  25.,  28.,  31.])"
      ]
     },
     "execution_count": 7,
     "metadata": {},
     "output_type": "execute_result"
    }
   ],
   "source": [
    "#Getting percentile distribution for all numeric variables\n",
    "##LR_DF.quantile([0.01,0.05,0.1,0.25,0.5,0.75,0.9,0.95,0.99,1]) this function does not work on missing\n",
    "np.nanpercentile(LR_DF[\"Holding_Period\"], np.arange(0, 101, 10))"
   ]
  },
  {
   "cell_type": "code",
   "execution_count": 8,
   "metadata": {
    "collapsed": false
   },
   "outputs": [
    {
     "data": {
      "text/plain": [
       "{'boxes': [<matplotlib.lines.Line2D at 0x1540adb3f60>],\n",
       " 'caps': [<matplotlib.lines.Line2D at 0x1540adca9b0>,\n",
       "  <matplotlib.lines.Line2D at 0x1540adcab38>],\n",
       " 'fliers': [<matplotlib.lines.Line2D at 0x1540add0ba8>],\n",
       " 'means': [],\n",
       " 'medians': [<matplotlib.lines.Line2D at 0x1540add0390>],\n",
       " 'whiskers': [<matplotlib.lines.Line2D at 0x1540adbf940>,\n",
       "  <matplotlib.lines.Line2D at 0x1540adbfac8>]}"
      ]
     },
     "execution_count": 8,
     "metadata": {},
     "output_type": "execute_result"
    },
    {
     "data": {
      "image/png": "[encoded data removed]",
      "text/plain": [
       "<matplotlib.figure.Figure at 0x1540a973da0>"
      ]
     },
     "metadata": {},
     "output_type": "display_data"
    }
   ],
   "source": [
    "#Capping and Flooring\n",
    "plt.boxplot(LR_DF[\"Balance\"],0,'o')"
   ]
  },
  {
   "cell_type": "code",
   "execution_count": 9,
   "metadata": {
    "collapsed": false
   },
   "outputs": [
    {
     "data": {
      "text/plain": [
       "count     20000.000000\n",
       "mean     141388.786708\n",
       "std      153870.001950\n",
       "min           0.000000\n",
       "25%       23736.915000\n",
       "50%       79755.745000\n",
       "75%      217310.632500\n",
       "max      560000.000000\n",
       "Name: Bal_cap, dtype: float64"
      ]
     },
     "execution_count": 9,
     "metadata": {},
     "output_type": "execute_result"
    }
   ],
   "source": [
    "LR_DF[\"Bal_cap\"]=LR_DF[\"Balance\"].map(lambda x: 560000 if x>560000 \n",
    "     else x)\n",
    "\n",
    "LR_DF[\"Bal_cap\"].describe()"
   ]
  },
  {
   "cell_type": "code",
   "execution_count": 10,
   "metadata": {
    "collapsed": false
   },
   "outputs": [],
   "source": [
    "LR_DF['decile'] = pd.qcut(LR_DF['Holding_Period'], 10, labels=False)\n",
    "\n",
    "Rrate =  LR_DF.fillna(-1).groupby('decile').apply(lambda x: pd.Series([\n",
    "        np.min(x['Holding_Period']),\n",
    "        np.max(x['Holding_Period']),\n",
    "        np.mean(x['Holding_Period']),\n",
    "        np.size(x['Holding_Period']),\n",
    "        np.sum(x['Target']),\n",
    "        np.size(x['Target'][x['Target']==0]),\n",
    "        ],\n",
    "        index=([\"min_HP\",\"max_HP\",\"avg_HP\",\n",
    "        \"cnt\",\"cnt_resp\",\"cnt_non_resp\"])\n",
    "        )).reset_index()\n",
    "\n",
    "Rrate[\"rrate\"]=Rrate[\"cnt_resp\"]*100/Rrate[\"cnt\"]"
   ]
  },
  {
   "cell_type": "code",
   "execution_count": 11,
   "metadata": {
    "collapsed": false
   },
   "outputs": [
    {
     "data": {
      "text/html": [
       "<div>\n",
       "<table border=\"1\" class=\"dataframe\">\n",
       "  <thead>\n",
       "    <tr style=\"text-align: right;\">\n",
       "      <th></th>\n",
       "      <th>decile</th>\n",
       "      <th>min_HP</th>\n",
       "      <th>max_HP</th>\n",
       "      <th>avg_HP</th>\n",
       "      <th>cnt</th>\n",
       "      <th>cnt_resp</th>\n",
       "      <th>cnt_non_resp</th>\n",
       "      <th>rrate</th>\n",
       "    </tr>\n",
       "  </thead>\n",
       "  <tbody>\n",
       "    <tr>\n",
       "      <th>0</th>\n",
       "      <td>-1.0</td>\n",
       "      <td>-1.0</td>\n",
       "      <td>-1.0</td>\n",
       "      <td>-1.000000</td>\n",
       "      <td>1000.0</td>\n",
       "      <td>35.0</td>\n",
       "      <td>965.0</td>\n",
       "      <td>3.500000</td>\n",
       "    </tr>\n",
       "    <tr>\n",
       "      <th>1</th>\n",
       "      <td>0.0</td>\n",
       "      <td>0.0</td>\n",
       "      <td>2.0</td>\n",
       "      <td>0.993694</td>\n",
       "      <td>1903.0</td>\n",
       "      <td>175.0</td>\n",
       "      <td>1728.0</td>\n",
       "      <td>9.196006</td>\n",
       "    </tr>\n",
       "    <tr>\n",
       "      <th>2</th>\n",
       "      <td>1.0</td>\n",
       "      <td>3.0</td>\n",
       "      <td>6.0</td>\n",
       "      <td>4.524664</td>\n",
       "      <td>2453.0</td>\n",
       "      <td>185.0</td>\n",
       "      <td>2268.0</td>\n",
       "      <td>7.541786</td>\n",
       "    </tr>\n",
       "    <tr>\n",
       "      <th>3</th>\n",
       "      <td>2.0</td>\n",
       "      <td>7.0</td>\n",
       "      <td>9.0</td>\n",
       "      <td>8.004442</td>\n",
       "      <td>1801.0</td>\n",
       "      <td>113.0</td>\n",
       "      <td>1688.0</td>\n",
       "      <td>6.274292</td>\n",
       "    </tr>\n",
       "    <tr>\n",
       "      <th>4</th>\n",
       "      <td>3.0</td>\n",
       "      <td>10.0</td>\n",
       "      <td>12.0</td>\n",
       "      <td>10.979237</td>\n",
       "      <td>1782.0</td>\n",
       "      <td>87.0</td>\n",
       "      <td>1695.0</td>\n",
       "      <td>4.882155</td>\n",
       "    </tr>\n",
       "    <tr>\n",
       "      <th>5</th>\n",
       "      <td>4.0</td>\n",
       "      <td>13.0</td>\n",
       "      <td>15.0</td>\n",
       "      <td>14.039539</td>\n",
       "      <td>1821.0</td>\n",
       "      <td>78.0</td>\n",
       "      <td>1743.0</td>\n",
       "      <td>4.283361</td>\n",
       "    </tr>\n",
       "    <tr>\n",
       "      <th>6</th>\n",
       "      <td>5.0</td>\n",
       "      <td>16.0</td>\n",
       "      <td>18.0</td>\n",
       "      <td>17.001073</td>\n",
       "      <td>1864.0</td>\n",
       "      <td>73.0</td>\n",
       "      <td>1791.0</td>\n",
       "      <td>3.916309</td>\n",
       "    </tr>\n",
       "    <tr>\n",
       "      <th>7</th>\n",
       "      <td>6.0</td>\n",
       "      <td>19.0</td>\n",
       "      <td>21.0</td>\n",
       "      <td>19.992970</td>\n",
       "      <td>1707.0</td>\n",
       "      <td>34.0</td>\n",
       "      <td>1673.0</td>\n",
       "      <td>1.991798</td>\n",
       "    </tr>\n",
       "    <tr>\n",
       "      <th>8</th>\n",
       "      <td>7.0</td>\n",
       "      <td>22.0</td>\n",
       "      <td>25.0</td>\n",
       "      <td>23.532358</td>\n",
       "      <td>2256.0</td>\n",
       "      <td>54.0</td>\n",
       "      <td>2202.0</td>\n",
       "      <td>2.393617</td>\n",
       "    </tr>\n",
       "    <tr>\n",
       "      <th>9</th>\n",
       "      <td>8.0</td>\n",
       "      <td>26.0</td>\n",
       "      <td>28.0</td>\n",
       "      <td>27.014732</td>\n",
       "      <td>1697.0</td>\n",
       "      <td>28.0</td>\n",
       "      <td>1669.0</td>\n",
       "      <td>1.649971</td>\n",
       "    </tr>\n",
       "    <tr>\n",
       "      <th>10</th>\n",
       "      <td>9.0</td>\n",
       "      <td>29.0</td>\n",
       "      <td>31.0</td>\n",
       "      <td>30.015734</td>\n",
       "      <td>1716.0</td>\n",
       "      <td>26.0</td>\n",
       "      <td>1690.0</td>\n",
       "      <td>1.515152</td>\n",
       "    </tr>\n",
       "  </tbody>\n",
       "</table>\n",
       "</div>"
      ],
      "text/plain": [
       "    decile  min_HP  max_HP     avg_HP     cnt  cnt_resp  cnt_non_resp  \\\n",
       "0     -1.0    -1.0    -1.0  -1.000000  1000.0      35.0         965.0   \n",
       "1      0.0     0.0     2.0   0.993694  1903.0     175.0        1728.0   \n",
       "2      1.0     3.0     6.0   4.524664  2453.0     185.0        2268.0   \n",
       "3      2.0     7.0     9.0   8.004442  1801.0     113.0        1688.0   \n",
       "4      3.0    10.0    12.0  10.979237  1782.0      87.0        1695.0   \n",
       "5      4.0    13.0    15.0  14.039539  1821.0      78.0        1743.0   \n",
       "6      5.0    16.0    18.0  17.001073  1864.0      73.0        1791.0   \n",
       "7      6.0    19.0    21.0  19.992970  1707.0      34.0        1673.0   \n",
       "8      7.0    22.0    25.0  23.532358  2256.0      54.0        2202.0   \n",
       "9      8.0    26.0    28.0  27.014732  1697.0      28.0        1669.0   \n",
       "10     9.0    29.0    31.0  30.015734  1716.0      26.0        1690.0   \n",
       "\n",
       "       rrate  \n",
       "0   3.500000  \n",
       "1   9.196006  \n",
       "2   7.541786  \n",
       "3   6.274292  \n",
       "4   4.882155  \n",
       "5   4.283361  \n",
       "6   3.916309  \n",
       "7   1.991798  \n",
       "8   2.393617  \n",
       "9   1.649971  \n",
       "10  1.515152  "
      ]
     },
     "execution_count": 11,
     "metadata": {},
     "output_type": "execute_result"
    }
   ],
   "source": [
    "Rrate"
   ]
  },
  {
   "cell_type": "code",
   "execution_count": 12,
   "metadata": {
    "collapsed": false
   },
   "outputs": [
    {
     "data": {
      "text/plain": [
       "count    20000.000000\n",
       "mean        15.339750\n",
       "std          9.025885\n",
       "min          0.000000\n",
       "25%          8.000000\n",
       "50%         16.000000\n",
       "75%         23.000000\n",
       "max         31.000000\n",
       "Name: HP_Imputed, dtype: float64"
      ]
     },
     "execution_count": 12,
     "metadata": {},
     "output_type": "execute_result"
    }
   ],
   "source": [
    "LR_DF[\"HP_Imputed\"]=LR_DF[\"Holding_Period\"].fillna(18)\n",
    "LR_DF[\"HP_Imputed\"].describe()"
   ]
  },
  {
   "cell_type": "code",
   "execution_count": 13,
   "metadata": {
    "collapsed": true
   },
   "outputs": [],
   "source": [
    "## Drop the decile column\n",
    "LR_DF.drop(['decile'], axis = 1, inplace = True)"
   ]
  },
  {
   "cell_type": "code",
   "execution_count": 14,
   "metadata": {
    "collapsed": false
   },
   "outputs": [
    {
     "data": {
      "text/html": [
       "<div>\n",
       "<table border=\"1\" class=\"dataframe\">\n",
       "  <thead>\n",
       "    <tr style=\"text-align: right;\">\n",
       "      <th>Target</th>\n",
       "      <th>0</th>\n",
       "      <th>1</th>\n",
       "      <th>RRate</th>\n",
       "    </tr>\n",
       "    <tr>\n",
       "      <th>Occupation</th>\n",
       "      <th></th>\n",
       "      <th></th>\n",
       "      <th></th>\n",
       "    </tr>\n",
       "  </thead>\n",
       "  <tbody>\n",
       "    <tr>\n",
       "      <th></th>\n",
       "      <td>4432</td>\n",
       "      <td>208</td>\n",
       "      <td>4.482759</td>\n",
       "    </tr>\n",
       "    <tr>\n",
       "      <th>PROF</th>\n",
       "      <td>5259</td>\n",
       "      <td>221</td>\n",
       "      <td>4.032847</td>\n",
       "    </tr>\n",
       "    <tr>\n",
       "      <th>SAL</th>\n",
       "      <td>5749</td>\n",
       "      <td>159</td>\n",
       "      <td>2.691266</td>\n",
       "    </tr>\n",
       "    <tr>\n",
       "      <th>SELF-EMP</th>\n",
       "      <td>2982</td>\n",
       "      <td>290</td>\n",
       "      <td>8.863081</td>\n",
       "    </tr>\n",
       "    <tr>\n",
       "      <th>SENP</th>\n",
       "      <td>690</td>\n",
       "      <td>10</td>\n",
       "      <td>1.428571</td>\n",
       "    </tr>\n",
       "  </tbody>\n",
       "</table>\n",
       "</div>"
      ],
      "text/plain": [
       "Target         0    1     RRate\n",
       "Occupation                     \n",
       "            4432  208  4.482759\n",
       "PROF        5259  221  4.032847\n",
       "SAL         5749  159  2.691266\n",
       "SELF-EMP    2982  290  8.863081\n",
       "SENP         690   10  1.428571"
      ]
     },
     "execution_count": 14,
     "metadata": {},
     "output_type": "execute_result"
    }
   ],
   "source": [
    "#Missing Value Imputation for Occupation\n",
    "ctab = pd.crosstab(LR_DF[\"Occupation\"].fillna(''),LR_DF[\"Target\"] )\n",
    "ctab['RRate'] = ctab[1] *100 / (ctab[1] + ctab[0])\n",
    "ctab"
   ]
  },
  {
   "cell_type": "code",
   "execution_count": 15,
   "metadata": {
    "collapsed": false
   },
   "outputs": [
    {
     "data": {
      "text/plain": [
       "SAL         5908\n",
       "PROF        5480\n",
       "Missing     4640\n",
       "SELF-EMP    3272\n",
       "SENP         700\n",
       "Name: Occu_Imputed, dtype: int64"
      ]
     },
     "execution_count": 15,
     "metadata": {},
     "output_type": "execute_result"
    }
   ],
   "source": [
    "LR_DF[\"Occu_Imputed\"]=LR_DF.Occupation.fillna(\"Missing\")\n",
    "LR_DF[\"Occu_Imputed\"].value_counts()"
   ]
  },
  {
   "cell_type": "code",
   "execution_count": 16,
   "metadata": {
    "collapsed": false
   },
   "outputs": [
    {
     "data": {
      "text/html": [
       "<div>\n",
       "<table border=\"1\" class=\"dataframe\">\n",
       "  <thead>\n",
       "    <tr style=\"text-align: right;\">\n",
       "      <th></th>\n",
       "      <th>VAR_NAME</th>\n",
       "      <th>IV</th>\n",
       "      <th>BINS</th>\n",
       "    </tr>\n",
       "  </thead>\n",
       "  <tbody>\n",
       "    <tr>\n",
       "      <th>0</th>\n",
       "      <td>No_OF_CR_TXNS</td>\n",
       "      <td>0.379058</td>\n",
       "      <td>9</td>\n",
       "    </tr>\n",
       "    <tr>\n",
       "      <th>1</th>\n",
       "      <td>Holding_Period</td>\n",
       "      <td>0.349119</td>\n",
       "      <td>13</td>\n",
       "    </tr>\n",
       "    <tr>\n",
       "      <th>2</th>\n",
       "      <td>HP_Imputed</td>\n",
       "      <td>0.349017</td>\n",
       "      <td>11</td>\n",
       "    </tr>\n",
       "    <tr>\n",
       "      <th>3</th>\n",
       "      <td>Bal_cap</td>\n",
       "      <td>0.296563</td>\n",
       "      <td>7</td>\n",
       "    </tr>\n",
       "    <tr>\n",
       "      <th>4</th>\n",
       "      <td>Balance</td>\n",
       "      <td>0.296563</td>\n",
       "      <td>7</td>\n",
       "    </tr>\n",
       "    <tr>\n",
       "      <th>5</th>\n",
       "      <td>SCR</td>\n",
       "      <td>0.272628</td>\n",
       "      <td>9</td>\n",
       "    </tr>\n",
       "    <tr>\n",
       "      <th>6</th>\n",
       "      <td>Occu_Imputed</td>\n",
       "      <td>0.220740</td>\n",
       "      <td>5</td>\n",
       "    </tr>\n",
       "    <tr>\n",
       "      <th>7</th>\n",
       "      <td>Occupation</td>\n",
       "      <td>0.220740</td>\n",
       "      <td>5</td>\n",
       "    </tr>\n",
       "    <tr>\n",
       "      <th>8</th>\n",
       "      <td>AGE_BKT</td>\n",
       "      <td>0.095657</td>\n",
       "      <td>7</td>\n",
       "    </tr>\n",
       "    <tr>\n",
       "      <th>9</th>\n",
       "      <td>Gender</td>\n",
       "      <td>0.032927</td>\n",
       "      <td>3</td>\n",
       "    </tr>\n",
       "    <tr>\n",
       "      <th>10</th>\n",
       "      <td>Age</td>\n",
       "      <td>0.028196</td>\n",
       "      <td>2</td>\n",
       "    </tr>\n",
       "  </tbody>\n",
       "</table>\n",
       "</div>"
      ],
      "text/plain": [
       "          VAR_NAME        IV  BINS\n",
       "0    No_OF_CR_TXNS  0.379058     9\n",
       "1   Holding_Period  0.349119    13\n",
       "2       HP_Imputed  0.349017    11\n",
       "3          Bal_cap  0.296563     7\n",
       "4          Balance  0.296563     7\n",
       "5              SCR  0.272628     9\n",
       "6     Occu_Imputed  0.220740     5\n",
       "7       Occupation  0.220740     5\n",
       "8          AGE_BKT  0.095657     7\n",
       "9           Gender  0.032927     3\n",
       "10             Age  0.028196     2"
      ]
     },
     "execution_count": 16,
     "metadata": {},
     "output_type": "execute_result"
    }
   ],
   "source": [
    "## Information Value\n",
    "exec(open(\"D:/K2Analytics/Python/Logistic_Regression/iv_function.py\").read())\n",
    "iv = information_value(df = LR_DF.iloc[:,1:],target = LR_DF.Target)\n",
    "iv"
   ]
  },
  {
   "cell_type": "code",
   "execution_count": 17,
   "metadata": {
    "collapsed": false
   },
   "outputs": [
    {
     "data": {
      "image/png": "[encoded data removed]",
      "text/plain": [
       "<matplotlib.figure.Figure at 0x1540caca2b0>"
      ]
     },
     "metadata": {},
     "output_type": "display_data"
    }
   ],
   "source": [
    "## Plotting the IV\n",
    "index = np.arange(len(iv.VAR_NAME))\n",
    "def plot_bar_x():\n",
    "    # this is for plotting purpose\n",
    "    index = np.arange(len(iv.VAR_NAME))\n",
    "    plt.bar(index, iv.IV)\n",
    "    plt.xlabel('Var', fontsize=5)\n",
    "    plt.ylabel('IV', fontsize=5)\n",
    "    plt.xticks(index, iv.VAR_NAME, fontsize=5, rotation=30)\n",
    "    plt.title('IV Plot')\n",
    "    plt.show()\n",
    "\n",
    "plot_bar_x()  "
   ]
  },
  {
   "cell_type": "code",
   "execution_count": 18,
   "metadata": {
    "collapsed": false
   },
   "outputs": [
    {
     "name": "stdout",
     "output_type": "stream",
     "text": [
      "Age\n",
      "Balance\n",
      "No_OF_CR_TXNS\n",
      "SCR\n",
      "Holding_Period\n",
      "Bal_cap\n",
      "HP_Imputed\n"
     ]
    }
   ],
   "source": [
    "## Visualization Code\n",
    "ai = LR_DF.drop('Target',axis=1).select_dtypes([np.number]).columns\n",
    "for i in ai:\n",
    "    print(i)\n",
    "    fn_biz_viz(LR_DF,i,\"Target\", \n",
    "               r\"D:\\K2Analytics\\Python\\Logistic_Regression\\Visualization\")"
   ]
  },
  {
   "cell_type": "code",
   "execution_count": 19,
   "metadata": {
    "collapsed": false
   },
   "outputs": [],
   "source": [
    "## Transforming Age Variable\n",
    "LR_DF[\"DV_Age\"]=LR_DF[\"Age\"].map(lambda\n",
    "         x: 43-(x-43) if x>43 else x)\n"
   ]
  },
  {
   "cell_type": "code",
   "execution_count": 20,
   "metadata": {
    "collapsed": false
   },
   "outputs": [],
   "source": [
    "## Other approach of writing the above code\n",
    "LR_DF[\"dv_age\"] = [y if y < 43 else (43 - (y - 43)) for y in LR_DF[\"Age\"]]\n",
    "LR_DF[\"dv_age\"] = np.where(LR_DF[\"Age\"] < 43, LR_DF[\"Age\"], \n",
    "     43 - (LR_DF[\"Age\"] - 43))"
   ]
  },
  {
   "cell_type": "code",
   "execution_count": 21,
   "metadata": {
    "collapsed": false
   },
   "outputs": [
    {
     "data": {
      "text/plain": [
       "(10000, 6000, 4000)"
      ]
     },
     "execution_count": 21,
     "metadata": {},
     "output_type": "execute_result"
    }
   ],
   "source": [
    "#Model development\n",
    "#spliting into development, validation and hold-out sample\n",
    "mydata = LR_DF.copy()\n",
    "mydata_dev, mydata_val, mydata_holdout = np.split(\n",
    "        mydata.sample(frac=1, random_state=1212), \n",
    "        [int(.5*len(mydata)), \n",
    "         int(.8*len(mydata))]\n",
    "        )\n",
    "\n",
    "(len(mydata_dev), len(mydata_val), len(mydata_holdout))\n",
    "\n"
   ]
  },
  {
   "cell_type": "code",
   "execution_count": 22,
   "metadata": {
    "collapsed": false
   },
   "outputs": [
    {
     "name": "stdout",
     "output_type": "stream",
     "text": [
      "4.3 4.8 4.2\n"
     ]
    }
   ],
   "source": [
    "print(round(sum(mydata_dev.Target)*100/len(mydata_dev),1),\n",
    "    round(sum(mydata_val.Target)*100/len(mydata_val),1),\n",
    "    round(sum(mydata_holdout.Target)*100/len(mydata_holdout),1))\n"
   ]
  },
  {
   "cell_type": "code",
   "execution_count": 23,
   "metadata": {
    "collapsed": false
   },
   "outputs": [
    {
     "data": {
      "text/html": [
       "<table class=\"simpletable\">\n",
       "<caption>Generalized Linear Model Regression Results</caption>\n",
       "<tr>\n",
       "  <th>Dep. Variable:</th>       <td>Target</td>      <th>  No. Observations:  </th>  <td> 10000</td> \n",
       "</tr>\n",
       "<tr>\n",
       "  <th>Model:</th>                 <td>GLM</td>       <th>  Df Residuals:      </th>  <td>  9998</td> \n",
       "</tr>\n",
       "<tr>\n",
       "  <th>Model Family:</th>       <td>Binomial</td>     <th>  Df Model:          </th>  <td>     1</td> \n",
       "</tr>\n",
       "<tr>\n",
       "  <th>Link Function:</th>        <td>logit</td>      <th>  Scale:             </th>    <td>1.0</td>  \n",
       "</tr>\n",
       "<tr>\n",
       "  <th>Method:</th>               <td>IRLS</td>       <th>  Log-Likelihood:    </th> <td> -1784.3</td>\n",
       "</tr>\n",
       "<tr>\n",
       "  <th>Date:</th>           <td>Wed, 09 Jan 2019</td> <th>  Deviance:          </th> <td>  3568.5</td>\n",
       "</tr>\n",
       "<tr>\n",
       "  <th>Time:</th>               <td>13:23:03</td>     <th>  Pearson chi2:      </th> <td>9.99e+03</td>\n",
       "</tr>\n",
       "<tr>\n",
       "  <th>No. Iterations:</th>         <td>8</td>        <th>                     </th>     <td> </td>   \n",
       "</tr>\n",
       "</table>\n",
       "<table class=\"simpletable\">\n",
       "<tr>\n",
       "      <td></td>         <th>coef</th>     <th>std err</th>      <th>z</th>      <th>P>|z|</th> <th>[95.0% Conf. Int.]</th> \n",
       "</tr>\n",
       "<tr>\n",
       "  <th>Intercept</th> <td>   -3.4643</td> <td>    0.206</td> <td>  -16.812</td> <td> 0.000</td> <td>   -3.868    -3.060</td>\n",
       "</tr>\n",
       "<tr>\n",
       "  <th>Age</th>       <td>    0.0096</td> <td>    0.005</td> <td>    1.875</td> <td> 0.061</td> <td>   -0.000     0.020</td>\n",
       "</tr>\n",
       "</table>"
      ],
      "text/plain": [
       "<class 'statsmodels.iolib.summary.Summary'>\n",
       "\"\"\"\n",
       "                 Generalized Linear Model Regression Results                  \n",
       "==============================================================================\n",
       "Dep. Variable:                 Target   No. Observations:                10000\n",
       "Model:                            GLM   Df Residuals:                     9998\n",
       "Model Family:                Binomial   Df Model:                            1\n",
       "Link Function:                  logit   Scale:                             1.0\n",
       "Method:                          IRLS   Log-Likelihood:                -1784.3\n",
       "Date:                Wed, 09 Jan 2019   Deviance:                       3568.5\n",
       "Time:                        13:23:03   Pearson chi2:                 9.99e+03\n",
       "No. Iterations:                     8                                         \n",
       "==============================================================================\n",
       "                 coef    std err          z      P>|z|      [95.0% Conf. Int.]\n",
       "------------------------------------------------------------------------------\n",
       "Intercept     -3.4643      0.206    -16.812      0.000        -3.868    -3.060\n",
       "Age            0.0096      0.005      1.875      0.061        -0.000     0.020\n",
       "==============================================================================\n",
       "\"\"\""
      ]
     },
     "execution_count": 23,
     "metadata": {},
     "output_type": "execute_result"
    }
   ],
   "source": [
    "#Importing the required Packages\n",
    "import statsmodels.formula.api as sm\n",
    "import statsmodels.api\n",
    "## Running one variable Logistic Regression\n",
    "mylogit = sm.glm(formula = \"Target~ Age\" , data = mydata_dev,\n",
    "                    family=statsmodels.api.families.Binomial()).fit()\n",
    "mylogit.summary()"
   ]
  },
  {
   "cell_type": "code",
   "execution_count": 24,
   "metadata": {
    "collapsed": false
   },
   "outputs": [
    {
     "data": {
      "text/html": [
       "<table class=\"simpletable\">\n",
       "<caption>Generalized Linear Model Regression Results</caption>\n",
       "<tr>\n",
       "  <th>Dep. Variable:</th>       <td>Target</td>      <th>  No. Observations:  </th>  <td> 10000</td> \n",
       "</tr>\n",
       "<tr>\n",
       "  <th>Model:</th>                 <td>GLM</td>       <th>  Df Residuals:      </th>  <td>  9998</td> \n",
       "</tr>\n",
       "<tr>\n",
       "  <th>Model Family:</th>       <td>Binomial</td>     <th>  Df Model:          </th>  <td>     1</td> \n",
       "</tr>\n",
       "<tr>\n",
       "  <th>Link Function:</th>        <td>logit</td>      <th>  Scale:             </th>    <td>1.0</td>  \n",
       "</tr>\n",
       "<tr>\n",
       "  <th>Method:</th>               <td>IRLS</td>       <th>  Log-Likelihood:    </th> <td> -1768.8</td>\n",
       "</tr>\n",
       "<tr>\n",
       "  <th>Date:</th>           <td>Wed, 09 Jan 2019</td> <th>  Deviance:          </th> <td>  3537.5</td>\n",
       "</tr>\n",
       "<tr>\n",
       "  <th>Time:</th>               <td>13:23:03</td>     <th>  Pearson chi2:      </th> <td>1.00e+04</td>\n",
       "</tr>\n",
       "<tr>\n",
       "  <th>No. Iterations:</th>         <td>8</td>        <th>                     </th>     <td> </td>   \n",
       "</tr>\n",
       "</table>\n",
       "<table class=\"simpletable\">\n",
       "<tr>\n",
       "      <td></td>         <th>coef</th>     <th>std err</th>      <th>z</th>      <th>P>|z|</th> <th>[95.0% Conf. Int.]</th> \n",
       "</tr>\n",
       "<tr>\n",
       "  <th>Intercept</th> <td>   -4.9389</td> <td>    0.332</td> <td>  -14.894</td> <td> 0.000</td> <td>   -5.589    -4.289</td>\n",
       "</tr>\n",
       "<tr>\n",
       "  <th>DV_Age</th>    <td>    0.0532</td> <td>    0.009</td> <td>    5.745</td> <td> 0.000</td> <td>    0.035     0.071</td>\n",
       "</tr>\n",
       "</table>"
      ],
      "text/plain": [
       "<class 'statsmodels.iolib.summary.Summary'>\n",
       "\"\"\"\n",
       "                 Generalized Linear Model Regression Results                  \n",
       "==============================================================================\n",
       "Dep. Variable:                 Target   No. Observations:                10000\n",
       "Model:                            GLM   Df Residuals:                     9998\n",
       "Model Family:                Binomial   Df Model:                            1\n",
       "Link Function:                  logit   Scale:                             1.0\n",
       "Method:                          IRLS   Log-Likelihood:                -1768.8\n",
       "Date:                Wed, 09 Jan 2019   Deviance:                       3537.5\n",
       "Time:                        13:23:03   Pearson chi2:                 1.00e+04\n",
       "No. Iterations:                     8                                         \n",
       "==============================================================================\n",
       "                 coef    std err          z      P>|z|      [95.0% Conf. Int.]\n",
       "------------------------------------------------------------------------------\n",
       "Intercept     -4.9389      0.332    -14.894      0.000        -5.589    -4.289\n",
       "DV_Age         0.0532      0.009      5.745      0.000         0.035     0.071\n",
       "==============================================================================\n",
       "\"\"\""
      ]
     },
     "execution_count": 24,
     "metadata": {},
     "output_type": "execute_result"
    }
   ],
   "source": [
    "mylogit = sm.glm(formula = \"Target~ DV_Age\" , data = mydata_dev,\n",
    "                    family=statsmodels.api.families.Binomial()).fit()\n",
    "mylogit.summary()"
   ]
  },
  {
   "cell_type": "code",
   "execution_count": 25,
   "metadata": {
    "collapsed": false
   },
   "outputs": [
    {
     "data": {
      "text/html": [
       "<table class=\"simpletable\">\n",
       "<caption>Generalized Linear Model Regression Results</caption>\n",
       "<tr>\n",
       "  <th>Dep. Variable:</th>       <td>Target</td>      <th>  No. Observations:  </th>  <td> 10000</td> \n",
       "</tr>\n",
       "<tr>\n",
       "  <th>Model:</th>                 <td>GLM</td>       <th>  Df Residuals:      </th>  <td>  9988</td> \n",
       "</tr>\n",
       "<tr>\n",
       "  <th>Model Family:</th>       <td>Binomial</td>     <th>  Df Model:          </th>  <td>    11</td> \n",
       "</tr>\n",
       "<tr>\n",
       "  <th>Link Function:</th>        <td>logit</td>      <th>  Scale:             </th>    <td>1.0</td>  \n",
       "</tr>\n",
       "<tr>\n",
       "  <th>Method:</th>               <td>IRLS</td>       <th>  Log-Likelihood:    </th> <td> -1498.5</td>\n",
       "</tr>\n",
       "<tr>\n",
       "  <th>Date:</th>           <td>Wed, 09 Jan 2019</td> <th>  Deviance:          </th> <td>  2997.0</td>\n",
       "</tr>\n",
       "<tr>\n",
       "  <th>Time:</th>               <td>13:23:03</td>     <th>  Pearson chi2:      </th> <td>1.14e+04</td>\n",
       "</tr>\n",
       "<tr>\n",
       "  <th>No. Iterations:</th>         <td>9</td>        <th>                     </th>     <td> </td>   \n",
       "</tr>\n",
       "</table>\n",
       "<table class=\"simpletable\">\n",
       "<tr>\n",
       "              <td></td>                <th>coef</th>     <th>std err</th>      <th>z</th>      <th>P>|z|</th> <th>[95.0% Conf. Int.]</th> \n",
       "</tr>\n",
       "<tr>\n",
       "  <th>Intercept</th>                <td>   -4.5268</td> <td>    0.409</td> <td>  -11.066</td> <td> 0.000</td> <td>   -5.329    -3.725</td>\n",
       "</tr>\n",
       "<tr>\n",
       "  <th>Gender[T.M]</th>              <td>    0.2280</td> <td>    0.137</td> <td>    1.665</td> <td> 0.096</td> <td>   -0.040     0.496</td>\n",
       "</tr>\n",
       "<tr>\n",
       "  <th>Gender[T.O]</th>              <td>   -0.2720</td> <td>    0.553</td> <td>   -0.492</td> <td> 0.623</td> <td>   -1.355     0.812</td>\n",
       "</tr>\n",
       "<tr>\n",
       "  <th>Occu_Imputed[T.PROF]</th>     <td>   -0.8580</td> <td>    0.157</td> <td>   -5.474</td> <td> 0.000</td> <td>   -1.165    -0.551</td>\n",
       "</tr>\n",
       "<tr>\n",
       "  <th>Occu_Imputed[T.SAL]</th>      <td>   -1.4622</td> <td>    0.172</td> <td>   -8.511</td> <td> 0.000</td> <td>   -1.799    -1.125</td>\n",
       "</tr>\n",
       "<tr>\n",
       "  <th>Occu_Imputed[T.SELF-EMP]</th> <td>    0.1360</td> <td>    0.146</td> <td>    0.932</td> <td> 0.352</td> <td>   -0.150     0.422</td>\n",
       "</tr>\n",
       "<tr>\n",
       "  <th>Occu_Imputed[T.SENP]</th>     <td>   -1.6482</td> <td>    0.435</td> <td>   -3.786</td> <td> 0.000</td> <td>   -2.501    -0.795</td>\n",
       "</tr>\n",
       "<tr>\n",
       "  <th>DV_Age</th>                   <td>    0.0334</td> <td>    0.010</td> <td>    3.350</td> <td> 0.001</td> <td>    0.014     0.053</td>\n",
       "</tr>\n",
       "<tr>\n",
       "  <th>SCR</th>                      <td>    0.0019</td> <td>    0.000</td> <td>    8.914</td> <td> 0.000</td> <td>    0.001     0.002</td>\n",
       "</tr>\n",
       "<tr>\n",
       "  <th>Bal_cap</th>                  <td>-3.991e-06</td> <td> 5.38e-07</td> <td>   -7.424</td> <td> 0.000</td> <td>-5.04e-06 -2.94e-06</td>\n",
       "</tr>\n",
       "<tr>\n",
       "  <th>No_OF_CR_TXNS</th>            <td>    0.0404</td> <td>    0.004</td> <td>   10.368</td> <td> 0.000</td> <td>    0.033     0.048</td>\n",
       "</tr>\n",
       "<tr>\n",
       "  <th>HP_Imputed</th>               <td>   -0.0629</td> <td>    0.006</td> <td>  -10.382</td> <td> 0.000</td> <td>   -0.075    -0.051</td>\n",
       "</tr>\n",
       "</table>"
      ],
      "text/plain": [
       "<class 'statsmodels.iolib.summary.Summary'>\n",
       "\"\"\"\n",
       "                 Generalized Linear Model Regression Results                  \n",
       "==============================================================================\n",
       "Dep. Variable:                 Target   No. Observations:                10000\n",
       "Model:                            GLM   Df Residuals:                     9988\n",
       "Model Family:                Binomial   Df Model:                           11\n",
       "Link Function:                  logit   Scale:                             1.0\n",
       "Method:                          IRLS   Log-Likelihood:                -1498.5\n",
       "Date:                Wed, 09 Jan 2019   Deviance:                       2997.0\n",
       "Time:                        13:23:03   Pearson chi2:                 1.14e+04\n",
       "No. Iterations:                     9                                         \n",
       "============================================================================================\n",
       "                               coef    std err          z      P>|z|      [95.0% Conf. Int.]\n",
       "--------------------------------------------------------------------------------------------\n",
       "Intercept                   -4.5268      0.409    -11.066      0.000        -5.329    -3.725\n",
       "Gender[T.M]                  0.2280      0.137      1.665      0.096        -0.040     0.496\n",
       "Gender[T.O]                 -0.2720      0.553     -0.492      0.623        -1.355     0.812\n",
       "Occu_Imputed[T.PROF]        -0.8580      0.157     -5.474      0.000        -1.165    -0.551\n",
       "Occu_Imputed[T.SAL]         -1.4622      0.172     -8.511      0.000        -1.799    -1.125\n",
       "Occu_Imputed[T.SELF-EMP]     0.1360      0.146      0.932      0.352        -0.150     0.422\n",
       "Occu_Imputed[T.SENP]        -1.6482      0.435     -3.786      0.000        -2.501    -0.795\n",
       "DV_Age                       0.0334      0.010      3.350      0.001         0.014     0.053\n",
       "SCR                          0.0019      0.000      8.914      0.000         0.001     0.002\n",
       "Bal_cap                  -3.991e-06   5.38e-07     -7.424      0.000     -5.04e-06 -2.94e-06\n",
       "No_OF_CR_TXNS                0.0404      0.004     10.368      0.000         0.033     0.048\n",
       "HP_Imputed                  -0.0629      0.006    -10.382      0.000        -0.075    -0.051\n",
       "============================================================================================\n",
       "\"\"\""
      ]
     },
     "execution_count": 25,
     "metadata": {},
     "output_type": "execute_result"
    }
   ],
   "source": [
    "## Running regression with all the variables\n",
    "mylogit = sm.glm(formula = \"\"\"Target~ DV_Age + Gender + SCR + Bal_cap \n",
    "        + No_OF_CR_TXNS + Occu_Imputed + HP_Imputed\"\"\" , \n",
    "        data = mydata_dev, family=statsmodels.api.families.Binomial()).fit()\n",
    "mylogit.summary()"
   ]
  },
  {
   "cell_type": "code",
   "execution_count": 26,
   "metadata": {
    "collapsed": false
   },
   "outputs": [
    {
     "data": {
      "text/html": [
       "<table class=\"simpletable\">\n",
       "<caption>Generalized Linear Model Regression Results</caption>\n",
       "<tr>\n",
       "  <th>Dep. Variable:</th>       <td>Target</td>      <th>  No. Observations:  </th>  <td> 10000</td> \n",
       "</tr>\n",
       "<tr>\n",
       "  <th>Model:</th>                 <td>GLM</td>       <th>  Df Residuals:      </th>  <td>  9990</td> \n",
       "</tr>\n",
       "<tr>\n",
       "  <th>Model Family:</th>       <td>Binomial</td>     <th>  Df Model:          </th>  <td>     9</td> \n",
       "</tr>\n",
       "<tr>\n",
       "  <th>Link Function:</th>        <td>logit</td>      <th>  Scale:             </th>    <td>1.0</td>  \n",
       "</tr>\n",
       "<tr>\n",
       "  <th>Method:</th>               <td>IRLS</td>       <th>  Log-Likelihood:    </th> <td> -1500.4</td>\n",
       "</tr>\n",
       "<tr>\n",
       "  <th>Date:</th>           <td>Wed, 09 Jan 2019</td> <th>  Deviance:          </th> <td>  3000.7</td>\n",
       "</tr>\n",
       "<tr>\n",
       "  <th>Time:</th>               <td>13:23:05</td>     <th>  Pearson chi2:      </th> <td>1.13e+04</td>\n",
       "</tr>\n",
       "<tr>\n",
       "  <th>No. Iterations:</th>         <td>9</td>        <th>                     </th>     <td> </td>   \n",
       "</tr>\n",
       "</table>\n",
       "<table class=\"simpletable\">\n",
       "<tr>\n",
       "              <td></td>                <th>coef</th>     <th>std err</th>      <th>z</th>      <th>P>|z|</th> <th>[95.0% Conf. Int.]</th> \n",
       "</tr>\n",
       "<tr>\n",
       "  <th>Intercept</th>                <td>   -4.4111</td> <td>    0.401</td> <td>  -10.988</td> <td> 0.000</td> <td>   -5.198    -3.624</td>\n",
       "</tr>\n",
       "<tr>\n",
       "  <th>Occu_Imputed[T.PROF]</th>     <td>   -0.8325</td> <td>    0.155</td> <td>   -5.354</td> <td> 0.000</td> <td>   -1.137    -0.528</td>\n",
       "</tr>\n",
       "<tr>\n",
       "  <th>Occu_Imputed[T.SAL]</th>      <td>   -1.4142</td> <td>    0.170</td> <td>   -8.331</td> <td> 0.000</td> <td>   -1.747    -1.081</td>\n",
       "</tr>\n",
       "<tr>\n",
       "  <th>Occu_Imputed[T.SELF-EMP]</th> <td>    0.1685</td> <td>    0.144</td> <td>    1.168</td> <td> 0.243</td> <td>   -0.114     0.451</td>\n",
       "</tr>\n",
       "<tr>\n",
       "  <th>Occu_Imputed[T.SENP]</th>     <td>   -1.6264</td> <td>    0.435</td> <td>   -3.742</td> <td> 0.000</td> <td>   -2.478    -0.774</td>\n",
       "</tr>\n",
       "<tr>\n",
       "  <th>DV_Age</th>                   <td>    0.0339</td> <td>    0.010</td> <td>    3.411</td> <td> 0.001</td> <td>    0.014     0.053</td>\n",
       "</tr>\n",
       "<tr>\n",
       "  <th>SCR</th>                      <td>    0.0019</td> <td>    0.000</td> <td>    8.920</td> <td> 0.000</td> <td>    0.001     0.002</td>\n",
       "</tr>\n",
       "<tr>\n",
       "  <th>Bal_cap</th>                  <td>-4.041e-06</td> <td> 5.35e-07</td> <td>   -7.552</td> <td> 0.000</td> <td>-5.09e-06 -2.99e-06</td>\n",
       "</tr>\n",
       "<tr>\n",
       "  <th>No_OF_CR_TXNS</th>            <td>    0.0414</td> <td>    0.004</td> <td>   10.836</td> <td> 0.000</td> <td>    0.034     0.049</td>\n",
       "</tr>\n",
       "<tr>\n",
       "  <th>HP_Imputed</th>               <td>   -0.0634</td> <td>    0.006</td> <td>  -10.453</td> <td> 0.000</td> <td>   -0.075    -0.051</td>\n",
       "</tr>\n",
       "</table>"
      ],
      "text/plain": [
       "<class 'statsmodels.iolib.summary.Summary'>\n",
       "\"\"\"\n",
       "                 Generalized Linear Model Regression Results                  \n",
       "==============================================================================\n",
       "Dep. Variable:                 Target   No. Observations:                10000\n",
       "Model:                            GLM   Df Residuals:                     9990\n",
       "Model Family:                Binomial   Df Model:                            9\n",
       "Link Function:                  logit   Scale:                             1.0\n",
       "Method:                          IRLS   Log-Likelihood:                -1500.4\n",
       "Date:                Wed, 09 Jan 2019   Deviance:                       3000.7\n",
       "Time:                        13:23:05   Pearson chi2:                 1.13e+04\n",
       "No. Iterations:                     9                                         \n",
       "============================================================================================\n",
       "                               coef    std err          z      P>|z|      [95.0% Conf. Int.]\n",
       "--------------------------------------------------------------------------------------------\n",
       "Intercept                   -4.4111      0.401    -10.988      0.000        -5.198    -3.624\n",
       "Occu_Imputed[T.PROF]        -0.8325      0.155     -5.354      0.000        -1.137    -0.528\n",
       "Occu_Imputed[T.SAL]         -1.4142      0.170     -8.331      0.000        -1.747    -1.081\n",
       "Occu_Imputed[T.SELF-EMP]     0.1685      0.144      1.168      0.243        -0.114     0.451\n",
       "Occu_Imputed[T.SENP]        -1.6264      0.435     -3.742      0.000        -2.478    -0.774\n",
       "DV_Age                       0.0339      0.010      3.411      0.001         0.014     0.053\n",
       "SCR                          0.0019      0.000      8.920      0.000         0.001     0.002\n",
       "Bal_cap                  -4.041e-06   5.35e-07     -7.552      0.000     -5.09e-06 -2.99e-06\n",
       "No_OF_CR_TXNS                0.0414      0.004     10.836      0.000         0.034     0.049\n",
       "HP_Imputed                  -0.0634      0.006    -10.453      0.000        -0.075    -0.051\n",
       "============================================================================================\n",
       "\"\"\""
      ]
     },
     "execution_count": 26,
     "metadata": {},
     "output_type": "execute_result"
    }
   ],
   "source": [
    "## Dropping Gender Variable\n",
    "mylogit = sm.glm(formula = \"\"\"Target~ DV_Age + SCR + Bal_cap \n",
    "        + No_OF_CR_TXNS + Occu_Imputed + HP_Imputed\"\"\" , \n",
    "        data = mydata_dev, family=statsmodels.api.families.Binomial()).fit()\n",
    "mylogit.summary()"
   ]
  },
  {
   "cell_type": "code",
   "execution_count": 27,
   "metadata": {
    "collapsed": false
   },
   "outputs": [
    {
     "data": {
      "text/html": [
       "<div>\n",
       "<table border=\"1\" class=\"dataframe\">\n",
       "  <thead>\n",
       "    <tr style=\"text-align: right;\">\n",
       "      <th>Target</th>\n",
       "      <th>0</th>\n",
       "      <th>1</th>\n",
       "      <th>RRate</th>\n",
       "    </tr>\n",
       "    <tr>\n",
       "      <th>Occupation</th>\n",
       "      <th></th>\n",
       "      <th></th>\n",
       "      <th></th>\n",
       "    </tr>\n",
       "  </thead>\n",
       "  <tbody>\n",
       "    <tr>\n",
       "      <th></th>\n",
       "      <td>2241</td>\n",
       "      <td>107</td>\n",
       "      <td>4.557070</td>\n",
       "    </tr>\n",
       "    <tr>\n",
       "      <th>PROF</th>\n",
       "      <td>2641</td>\n",
       "      <td>99</td>\n",
       "      <td>3.613139</td>\n",
       "    </tr>\n",
       "    <tr>\n",
       "      <th>SAL</th>\n",
       "      <td>2873</td>\n",
       "      <td>78</td>\n",
       "      <td>2.643172</td>\n",
       "    </tr>\n",
       "    <tr>\n",
       "      <th>SELF-EMP</th>\n",
       "      <td>1466</td>\n",
       "      <td>144</td>\n",
       "      <td>8.944099</td>\n",
       "    </tr>\n",
       "    <tr>\n",
       "      <th>SENP</th>\n",
       "      <td>345</td>\n",
       "      <td>6</td>\n",
       "      <td>1.709402</td>\n",
       "    </tr>\n",
       "  </tbody>\n",
       "</table>\n",
       "</div>"
      ],
      "text/plain": [
       "Target         0    1     RRate\n",
       "Occupation                     \n",
       "            2241  107  4.557070\n",
       "PROF        2641   99  3.613139\n",
       "SAL         2873   78  2.643172\n",
       "SELF-EMP    1466  144  8.944099\n",
       "SENP         345    6  1.709402"
      ]
     },
     "execution_count": 27,
     "metadata": {},
     "output_type": "execute_result"
    }
   ],
   "source": [
    "## Transforming Occupation Variable\n",
    "ctab = pd.crosstab(mydata_dev[\"Occupation\"].fillna(''),mydata_dev[\"Target\"] )\n",
    "ctab['RRate'] = ctab[1] *100 / (ctab[1] + ctab[0])\n",
    "ctab"
   ]
  },
  {
   "cell_type": "code",
   "execution_count": 28,
   "metadata": {
    "collapsed": false
   },
   "outputs": [
    {
     "data": {
      "text/plain": [
       "PROF_MISSING    5088\n",
       "SAL_SENP        3302\n",
       "SELF-EMP        1610\n",
       "Name: occ_recat, dtype: int64"
      ]
     },
     "execution_count": 28,
     "metadata": {},
     "output_type": "execute_result"
    }
   ],
   "source": [
    "mydata_dev[\"occ_recat\"]=mydata_dev[\"Occupation\"].map(lambda\n",
    "         x: \"PROF_MISSING\" if (pd.isnull(x) or x == \"PROF\")\n",
    "         else (\"SAL_SENP\" if (x == \"SAL\" or x == \"SENP\")\n",
    "         else \"SELF-EMP\"))\n",
    "mydata_dev['occ_recat'].value_counts()\n"
   ]
  },
  {
   "cell_type": "code",
   "execution_count": 29,
   "metadata": {
    "collapsed": false
   },
   "outputs": [
    {
     "data": {
      "text/plain": [
       "PROF_MISSING    5088\n",
       "SAL_SENP        3302\n",
       "SELF-EMP        1610\n",
       "Name: occ_recat2, dtype: int64"
      ]
     },
     "execution_count": 29,
     "metadata": {},
     "output_type": "execute_result"
    }
   ],
   "source": [
    "## Other style of coding is given below\n",
    "def occ_function (row):\n",
    "    if (pd.isnull(row['Occupation']) or row['Occupation'] == \"PROF\"):\n",
    "        return \"PROF_MISSING\"\n",
    "    elif (row['Occupation'] == \"SAL\" or row['Occupation'] == \"SENP\"):\n",
    "        return \"SAL_SENP\" \n",
    "    else: return row['Occupation']\n",
    "\n",
    "mydata_dev['occ_recat2'] = mydata_dev.apply (\n",
    "        lambda row: occ_function(row),axis=1)\n",
    "mydata_dev['occ_recat2'].value_counts()"
   ]
  },
  {
   "cell_type": "code",
   "execution_count": 30,
   "metadata": {
    "collapsed": false
   },
   "outputs": [
    {
     "data": {
      "text/html": [
       "<table class=\"simpletable\">\n",
       "<caption>Generalized Linear Model Regression Results</caption>\n",
       "<tr>\n",
       "  <th>Dep. Variable:</th>       <td>Target</td>      <th>  No. Observations:  </th>  <td> 10000</td> \n",
       "</tr>\n",
       "<tr>\n",
       "  <th>Model:</th>                 <td>GLM</td>       <th>  Df Residuals:      </th>  <td>  9992</td> \n",
       "</tr>\n",
       "<tr>\n",
       "  <th>Model Family:</th>       <td>Binomial</td>     <th>  Df Model:          </th>  <td>     7</td> \n",
       "</tr>\n",
       "<tr>\n",
       "  <th>Link Function:</th>        <td>logit</td>      <th>  Scale:             </th>    <td>1.0</td>  \n",
       "</tr>\n",
       "<tr>\n",
       "  <th>Method:</th>               <td>IRLS</td>       <th>  Log-Likelihood:    </th> <td> -1514.9</td>\n",
       "</tr>\n",
       "<tr>\n",
       "  <th>Date:</th>           <td>Wed, 09 Jan 2019</td> <th>  Deviance:          </th> <td>  3029.8</td>\n",
       "</tr>\n",
       "<tr>\n",
       "  <th>Time:</th>               <td>13:23:10</td>     <th>  Pearson chi2:      </th> <td>1.13e+04</td>\n",
       "</tr>\n",
       "<tr>\n",
       "  <th>No. Iterations:</th>         <td>9</td>        <th>                     </th>     <td> </td>   \n",
       "</tr>\n",
       "</table>\n",
       "<table class=\"simpletable\">\n",
       "<tr>\n",
       "            <td></td>               <th>coef</th>     <th>std err</th>      <th>z</th>      <th>P>|z|</th> <th>[95.0% Conf. Int.]</th> \n",
       "</tr>\n",
       "<tr>\n",
       "  <th>Intercept</th>             <td>   -4.7652</td> <td>    0.399</td> <td>  -11.955</td> <td> 0.000</td> <td>   -5.546    -3.984</td>\n",
       "</tr>\n",
       "<tr>\n",
       "  <th>occ_recat[T.SAL_SENP]</th> <td>   -0.9041</td> <td>    0.138</td> <td>   -6.537</td> <td> 0.000</td> <td>   -1.175    -0.633</td>\n",
       "</tr>\n",
       "<tr>\n",
       "  <th>occ_recat[T.SELF-EMP]</th> <td>    0.6564</td> <td>    0.118</td> <td>    5.541</td> <td> 0.000</td> <td>    0.424     0.889</td>\n",
       "</tr>\n",
       "<tr>\n",
       "  <th>DV_Age</th>                <td>    0.0327</td> <td>    0.010</td> <td>    3.288</td> <td> 0.001</td> <td>    0.013     0.052</td>\n",
       "</tr>\n",
       "<tr>\n",
       "  <th>SCR</th>                   <td>    0.0019</td> <td>    0.000</td> <td>    9.019</td> <td> 0.000</td> <td>    0.001     0.002</td>\n",
       "</tr>\n",
       "<tr>\n",
       "  <th>Bal_cap</th>               <td>-3.803e-06</td> <td> 5.28e-07</td> <td>   -7.196</td> <td> 0.000</td> <td>-4.84e-06 -2.77e-06</td>\n",
       "</tr>\n",
       "<tr>\n",
       "  <th>No_OF_CR_TXNS</th>         <td>    0.0360</td> <td>    0.004</td> <td>   10.022</td> <td> 0.000</td> <td>    0.029     0.043</td>\n",
       "</tr>\n",
       "<tr>\n",
       "  <th>HP_Imputed</th>            <td>   -0.0632</td> <td>    0.006</td> <td>  -10.432</td> <td> 0.000</td> <td>   -0.075    -0.051</td>\n",
       "</tr>\n",
       "</table>"
      ],
      "text/plain": [
       "<class 'statsmodels.iolib.summary.Summary'>\n",
       "\"\"\"\n",
       "                 Generalized Linear Model Regression Results                  \n",
       "==============================================================================\n",
       "Dep. Variable:                 Target   No. Observations:                10000\n",
       "Model:                            GLM   Df Residuals:                     9992\n",
       "Model Family:                Binomial   Df Model:                            7\n",
       "Link Function:                  logit   Scale:                             1.0\n",
       "Method:                          IRLS   Log-Likelihood:                -1514.9\n",
       "Date:                Wed, 09 Jan 2019   Deviance:                       3029.8\n",
       "Time:                        13:23:10   Pearson chi2:                 1.13e+04\n",
       "No. Iterations:                     9                                         \n",
       "=========================================================================================\n",
       "                            coef    std err          z      P>|z|      [95.0% Conf. Int.]\n",
       "-----------------------------------------------------------------------------------------\n",
       "Intercept                -4.7652      0.399    -11.955      0.000        -5.546    -3.984\n",
       "occ_recat[T.SAL_SENP]    -0.9041      0.138     -6.537      0.000        -1.175    -0.633\n",
       "occ_recat[T.SELF-EMP]     0.6564      0.118      5.541      0.000         0.424     0.889\n",
       "DV_Age                    0.0327      0.010      3.288      0.001         0.013     0.052\n",
       "SCR                       0.0019      0.000      9.019      0.000         0.001     0.002\n",
       "Bal_cap               -3.803e-06   5.28e-07     -7.196      0.000     -4.84e-06 -2.77e-06\n",
       "No_OF_CR_TXNS             0.0360      0.004     10.022      0.000         0.029     0.043\n",
       "HP_Imputed               -0.0632      0.006    -10.432      0.000        -0.075    -0.051\n",
       "=========================================================================================\n",
       "\"\"\""
      ]
     },
     "execution_count": 30,
     "metadata": {},
     "output_type": "execute_result"
    }
   ],
   "source": [
    "mylogit = sm.glm(formula = \"\"\"Target ~ DV_Age + SCR + Bal_cap \n",
    "        + No_OF_CR_TXNS + occ_recat + HP_Imputed\"\"\" , \n",
    "        data = mydata_dev, family=statsmodels.api.families.Binomial()).fit()\n",
    "mylogit.summary()"
   ]
  },
  {
   "cell_type": "code",
   "execution_count": 31,
   "metadata": {
    "collapsed": false
   },
   "outputs": [
    {
     "data": {
      "text/html": [
       "<div>\n",
       "<table border=\"1\" class=\"dataframe\">\n",
       "  <thead>\n",
       "    <tr style=\"text-align: right;\">\n",
       "      <th></th>\n",
       "      <th>Variable</th>\n",
       "      <th>VIF</th>\n",
       "    </tr>\n",
       "  </thead>\n",
       "  <tbody>\n",
       "    <tr>\n",
       "      <th>0</th>\n",
       "      <td>Intercept</td>\n",
       "      <td>51.1</td>\n",
       "    </tr>\n",
       "    <tr>\n",
       "      <th>1</th>\n",
       "      <td>occ_recat[T.SAL_SENP]</td>\n",
       "      <td>1.2</td>\n",
       "    </tr>\n",
       "    <tr>\n",
       "      <th>2</th>\n",
       "      <td>occ_recat[T.SELF-EMP]</td>\n",
       "      <td>1.1</td>\n",
       "    </tr>\n",
       "    <tr>\n",
       "      <th>3</th>\n",
       "      <td>DV_Age</td>\n",
       "      <td>1.0</td>\n",
       "    </tr>\n",
       "    <tr>\n",
       "      <th>4</th>\n",
       "      <td>SCR</td>\n",
       "      <td>1.0</td>\n",
       "    </tr>\n",
       "    <tr>\n",
       "      <th>5</th>\n",
       "      <td>Bal_cap</td>\n",
       "      <td>1.1</td>\n",
       "    </tr>\n",
       "    <tr>\n",
       "      <th>6</th>\n",
       "      <td>No_OF_CR_TXNS</td>\n",
       "      <td>1.1</td>\n",
       "    </tr>\n",
       "    <tr>\n",
       "      <th>7</th>\n",
       "      <td>HP_Imputed</td>\n",
       "      <td>1.0</td>\n",
       "    </tr>\n",
       "  </tbody>\n",
       "</table>\n",
       "</div>"
      ],
      "text/plain": [
       "                Variable   VIF\n",
       "0              Intercept  51.1\n",
       "1  occ_recat[T.SAL_SENP]   1.2\n",
       "2  occ_recat[T.SELF-EMP]   1.1\n",
       "3                 DV_Age   1.0\n",
       "4                    SCR   1.0\n",
       "5                Bal_cap   1.1\n",
       "6          No_OF_CR_TXNS   1.1\n",
       "7             HP_Imputed   1.0"
      ]
     },
     "execution_count": 31,
     "metadata": {},
     "output_type": "execute_result"
    }
   ],
   "source": [
    "#VIF Factor\n",
    "def VIF(formula,data):\n",
    "    from patsy import dmatrices\n",
    "    from statsmodels.stats.outliers_influence import variance_inflation_factor\n",
    "    y , X = dmatrices(formula,data = data,return_type=\"dataframe\")\n",
    "    vif = pd.DataFrame()\n",
    "    vif[\"Variable\"] = X.columns\n",
    "    vif[\"VIF\"] = [variance_inflation_factor(X.values, i) \n",
    "        for i in range(X.shape[1])]\n",
    "    return(vif.round(1))\n",
    "\n",
    "vif=VIF(\"\"\"Target ~ DV_Age + SCR + Bal_cap \n",
    "        + No_OF_CR_TXNS + occ_recat + HP_Imputed\"\"\",mydata_dev)\n",
    "vif     "
   ]
  },
  {
   "cell_type": "code",
   "execution_count": 32,
   "metadata": {
    "collapsed": true
   },
   "outputs": [],
   "source": [
    "## Predicting Probabilities\n",
    "mydata_dev[\"prob\"] = mylogit.predict(mydata_dev)"
   ]
  },
  {
   "cell_type": "code",
   "execution_count": 33,
   "metadata": {
    "collapsed": true
   },
   "outputs": [],
   "source": [
    "## Classification\n",
    "mydata_dev.prob.quantile(\n",
    "  [0.01,0.05,0.1,0.25,0.5,0.75,0.9,0.95,0.99,1])\n",
    "\n",
    "mydata_dev[\"class\"] = mydata_dev[\"prob\"].map(\n",
    "        lambda x: 1 if x > mydata_dev.prob.quantile(0.956) else 0)\n"
   ]
  },
  {
   "cell_type": "code",
   "execution_count": 34,
   "metadata": {
    "collapsed": false
   },
   "outputs": [
    {
     "data": {
      "text/html": [
       "<div>\n",
       "<table border=\"1\" class=\"dataframe\">\n",
       "  <thead>\n",
       "    <tr style=\"text-align: right;\">\n",
       "      <th></th>\n",
       "      <th>decile</th>\n",
       "      <th>min_prob</th>\n",
       "      <th>max_prob</th>\n",
       "      <th>avg_prob</th>\n",
       "      <th>cnt</th>\n",
       "      <th>cnt_resp</th>\n",
       "      <th>cnt_non_resp</th>\n",
       "      <th>rrate</th>\n",
       "      <th>cum_resp</th>\n",
       "      <th>cum_non_resp</th>\n",
       "      <th>cum_resp_pct</th>\n",
       "      <th>cum_non_resp_pct</th>\n",
       "      <th>KS</th>\n",
       "    </tr>\n",
       "  </thead>\n",
       "  <tbody>\n",
       "    <tr>\n",
       "      <th>9</th>\n",
       "      <td>9</td>\n",
       "      <td>0.103465</td>\n",
       "      <td>0.571987</td>\n",
       "      <td>0.181296</td>\n",
       "      <td>1000.0</td>\n",
       "      <td>197.0</td>\n",
       "      <td>803.0</td>\n",
       "      <td>19.7</td>\n",
       "      <td>197.0</td>\n",
       "      <td>803.0</td>\n",
       "      <td>45.39</td>\n",
       "      <td>8.39</td>\n",
       "      <td>37.00</td>\n",
       "    </tr>\n",
       "    <tr>\n",
       "      <th>8</th>\n",
       "      <td>8</td>\n",
       "      <td>0.063057</td>\n",
       "      <td>0.103449</td>\n",
       "      <td>0.080321</td>\n",
       "      <td>1000.0</td>\n",
       "      <td>72.0</td>\n",
       "      <td>928.0</td>\n",
       "      <td>7.2</td>\n",
       "      <td>269.0</td>\n",
       "      <td>1731.0</td>\n",
       "      <td>61.98</td>\n",
       "      <td>18.10</td>\n",
       "      <td>43.88</td>\n",
       "    </tr>\n",
       "    <tr>\n",
       "      <th>7</th>\n",
       "      <td>7</td>\n",
       "      <td>0.043946</td>\n",
       "      <td>0.063055</td>\n",
       "      <td>0.052422</td>\n",
       "      <td>1000.0</td>\n",
       "      <td>41.0</td>\n",
       "      <td>959.0</td>\n",
       "      <td>4.1</td>\n",
       "      <td>310.0</td>\n",
       "      <td>2690.0</td>\n",
       "      <td>71.43</td>\n",
       "      <td>28.12</td>\n",
       "      <td>43.31</td>\n",
       "    </tr>\n",
       "    <tr>\n",
       "      <th>6</th>\n",
       "      <td>6</td>\n",
       "      <td>0.031878</td>\n",
       "      <td>0.043939</td>\n",
       "      <td>0.037424</td>\n",
       "      <td>1000.0</td>\n",
       "      <td>35.0</td>\n",
       "      <td>965.0</td>\n",
       "      <td>3.5</td>\n",
       "      <td>345.0</td>\n",
       "      <td>3655.0</td>\n",
       "      <td>79.49</td>\n",
       "      <td>38.21</td>\n",
       "      <td>41.28</td>\n",
       "    </tr>\n",
       "    <tr>\n",
       "      <th>5</th>\n",
       "      <td>5</td>\n",
       "      <td>0.023733</td>\n",
       "      <td>0.031865</td>\n",
       "      <td>0.027530</td>\n",
       "      <td>1000.0</td>\n",
       "      <td>22.0</td>\n",
       "      <td>978.0</td>\n",
       "      <td>2.2</td>\n",
       "      <td>367.0</td>\n",
       "      <td>4633.0</td>\n",
       "      <td>84.56</td>\n",
       "      <td>48.43</td>\n",
       "      <td>36.13</td>\n",
       "    </tr>\n",
       "    <tr>\n",
       "      <th>4</th>\n",
       "      <td>4</td>\n",
       "      <td>0.017208</td>\n",
       "      <td>0.023717</td>\n",
       "      <td>0.020341</td>\n",
       "      <td>1000.0</td>\n",
       "      <td>26.0</td>\n",
       "      <td>974.0</td>\n",
       "      <td>2.6</td>\n",
       "      <td>393.0</td>\n",
       "      <td>5607.0</td>\n",
       "      <td>90.55</td>\n",
       "      <td>58.61</td>\n",
       "      <td>31.94</td>\n",
       "    </tr>\n",
       "    <tr>\n",
       "      <th>3</th>\n",
       "      <td>3</td>\n",
       "      <td>0.012521</td>\n",
       "      <td>0.017204</td>\n",
       "      <td>0.014779</td>\n",
       "      <td>1000.0</td>\n",
       "      <td>15.0</td>\n",
       "      <td>985.0</td>\n",
       "      <td>1.5</td>\n",
       "      <td>408.0</td>\n",
       "      <td>6592.0</td>\n",
       "      <td>94.01</td>\n",
       "      <td>68.91</td>\n",
       "      <td>25.10</td>\n",
       "    </tr>\n",
       "    <tr>\n",
       "      <th>2</th>\n",
       "      <td>2</td>\n",
       "      <td>0.008411</td>\n",
       "      <td>0.012517</td>\n",
       "      <td>0.010379</td>\n",
       "      <td>1000.0</td>\n",
       "      <td>9.0</td>\n",
       "      <td>991.0</td>\n",
       "      <td>0.9</td>\n",
       "      <td>417.0</td>\n",
       "      <td>7583.0</td>\n",
       "      <td>96.08</td>\n",
       "      <td>79.27</td>\n",
       "      <td>16.81</td>\n",
       "    </tr>\n",
       "    <tr>\n",
       "      <th>1</th>\n",
       "      <td>1</td>\n",
       "      <td>0.004720</td>\n",
       "      <td>0.008405</td>\n",
       "      <td>0.006526</td>\n",
       "      <td>1000.0</td>\n",
       "      <td>13.0</td>\n",
       "      <td>987.0</td>\n",
       "      <td>1.3</td>\n",
       "      <td>430.0</td>\n",
       "      <td>8570.0</td>\n",
       "      <td>99.08</td>\n",
       "      <td>89.59</td>\n",
       "      <td>9.49</td>\n",
       "    </tr>\n",
       "    <tr>\n",
       "      <th>0</th>\n",
       "      <td>0</td>\n",
       "      <td>0.000263</td>\n",
       "      <td>0.004720</td>\n",
       "      <td>0.002982</td>\n",
       "      <td>1000.0</td>\n",
       "      <td>4.0</td>\n",
       "      <td>996.0</td>\n",
       "      <td>0.4</td>\n",
       "      <td>434.0</td>\n",
       "      <td>9566.0</td>\n",
       "      <td>100.00</td>\n",
       "      <td>100.00</td>\n",
       "      <td>0.00</td>\n",
       "    </tr>\n",
       "  </tbody>\n",
       "</table>\n",
       "</div>"
      ],
      "text/plain": [
       "   decile  min_prob  max_prob  avg_prob     cnt  cnt_resp  cnt_non_resp  \\\n",
       "9       9  0.103465  0.571987  0.181296  1000.0     197.0         803.0   \n",
       "8       8  0.063057  0.103449  0.080321  1000.0      72.0         928.0   \n",
       "7       7  0.043946  0.063055  0.052422  1000.0      41.0         959.0   \n",
       "6       6  0.031878  0.043939  0.037424  1000.0      35.0         965.0   \n",
       "5       5  0.023733  0.031865  0.027530  1000.0      22.0         978.0   \n",
       "4       4  0.017208  0.023717  0.020341  1000.0      26.0         974.0   \n",
       "3       3  0.012521  0.017204  0.014779  1000.0      15.0         985.0   \n",
       "2       2  0.008411  0.012517  0.010379  1000.0       9.0         991.0   \n",
       "1       1  0.004720  0.008405  0.006526  1000.0      13.0         987.0   \n",
       "0       0  0.000263  0.004720  0.002982  1000.0       4.0         996.0   \n",
       "\n",
       "   rrate  cum_resp  cum_non_resp  cum_resp_pct  cum_non_resp_pct     KS  \n",
       "9   19.7     197.0         803.0         45.39              8.39  37.00  \n",
       "8    7.2     269.0        1731.0         61.98             18.10  43.88  \n",
       "7    4.1     310.0        2690.0         71.43             28.12  43.31  \n",
       "6    3.5     345.0        3655.0         79.49             38.21  41.28  \n",
       "5    2.2     367.0        4633.0         84.56             48.43  36.13  \n",
       "4    2.6     393.0        5607.0         90.55             58.61  31.94  \n",
       "3    1.5     408.0        6592.0         94.01             68.91  25.10  \n",
       "2    0.9     417.0        7583.0         96.08             79.27  16.81  \n",
       "1    1.3     430.0        8570.0         99.08             89.59   9.49  \n",
       "0    0.4     434.0        9566.0        100.00            100.00   0.00  "
      ]
     },
     "execution_count": 34,
     "metadata": {},
     "output_type": "execute_result"
    }
   ],
   "source": [
    "mydata_dev['decile']=pd.qcut(mydata_dev.prob, 10, labels=False)\n",
    "## Rank Order Table and KS Statistics\n",
    "def Response_Rate(X,y,Target):\n",
    "    \n",
    "    Rank=X.groupby('decile').apply(lambda x: pd.Series([\n",
    "        np.min(x[y]),\n",
    "        np.max(x[y]),\n",
    "        np.mean(x[y]),\n",
    "        np.size(x[y]),\n",
    "        np.sum(x[Target]),\n",
    "        np.size(x[Target][x[Target]==0]),\n",
    "        ],\n",
    "        index=([\"min_prob\",\"max_prob\",\"avg_prob\",\n",
    "                \"cnt\",\"cnt_resp\",\"cnt_non_resp\"])\n",
    "        )).reset_index()\n",
    "    Rank=Rank.sort_values(by='decile',ascending=False)\n",
    "    Rank[\"rrate\"]=round(Rank[\"cnt_resp\"]*100/Rank[\"cnt\"],2)\n",
    "    Rank[\"cum_resp\"]=np.cumsum(Rank[\"cnt_resp\"])\n",
    "    Rank[\"cum_non_resp\"]=np.cumsum(Rank[\"cnt_non_resp\"])\n",
    "    Rank[\"cum_resp_pct\"]=round(Rank[\"cum_resp\"]*100/np.sum(Rank[\"cnt_resp\"]),2)\n",
    "    Rank[\"cum_non_resp_pct\"]=round(\n",
    "            Rank[\"cum_non_resp\"]*100/np.sum(Rank[\"cnt_non_resp\"]),2)\n",
    "    Rank[\"KS\"] = round(Rank[\"cum_resp_pct\"] - Rank[\"cum_non_resp_pct\"],2)\n",
    "    Rank\n",
    "    return(Rank)\n",
    "\n",
    "\n",
    "RRate = Response_Rate(mydata_dev,\"prob\",\"Target\")\n",
    "RRate\n",
    "\n"
   ]
  },
  {
   "cell_type": "code",
   "execution_count": 35,
   "metadata": {
    "collapsed": false
   },
   "outputs": [
    {
     "data": {
      "image/png": "[encoded data removed]",
      "text/plain": [
       "<matplotlib.figure.Figure at 0x1540f70ccc0>"
      ]
     },
     "metadata": {},
     "output_type": "display_data"
    },
    {
     "data": {
      "text/plain": [
       "0.45326188854342997"
      ]
     },
     "execution_count": 35,
     "metadata": {},
     "output_type": "execute_result"
    }
   ],
   "source": [
    "#Roc_Curve and KS\n",
    "from sklearn.metrics import roc_curve\n",
    "fpr, tpr, thresholds = roc_curve(mydata_dev[\"Target\"],mydata_dev[\"prob\"] )\n",
    "# Plot ROC curve\n",
    "plt.plot([0, 1], [0, 1], 'k--')\n",
    "plt.plot(fpr, tpr)\n",
    "plt.xlabel('False Positive Rate')\n",
    "plt.ylabel('True Positive Rate')\n",
    "plt.title('ROC Curve')\n",
    "plt.show()\n",
    "\n",
    "KS = (tpr - fpr).max()\n",
    "KS"
   ]
  },
  {
   "cell_type": "code",
   "execution_count": 36,
   "metadata": {
    "collapsed": false
   },
   "outputs": [
    {
     "data": {
      "text/plain": [
       "0.79112924903965753"
      ]
     },
     "execution_count": 36,
     "metadata": {},
     "output_type": "execute_result"
    }
   ],
   "source": [
    "from sklearn.metrics import roc_auc_score\n",
    "auc = roc_auc_score(mydata_dev[\"Target\"],mydata_dev[\"prob\"])\n",
    "auc"
   ]
  },
  {
   "cell_type": "code",
   "execution_count": 37,
   "metadata": {
    "collapsed": false
   },
   "outputs": [
    {
     "name": "stdout",
     "output_type": "stream",
     "text": [
      "confusion matrix \n",
      " [[9248  318]\n",
      " [ 312  122]] \n",
      "\n",
      "classification accuracy  0.937\n"
     ]
    }
   ],
   "source": [
    "#Confusion Matrix and Classification Accuracy\n",
    "from sklearn.metrics import confusion_matrix, accuracy_score   \n",
    "confusion_matrix = (\n",
    "    {\"conf_matx\": confusion_matrix(mydata_dev.Target,mydata_dev[\"class\"]),\n",
    "     \"accuracy\": accuracy_score(mydata_dev.Target,mydata_dev[\"class\"])\n",
    "    })\n",
    "\n",
    "print(\"confusion matrix \\n\" , confusion_matrix[\"conf_matx\"], \n",
    "      \"\\n\\nclassification accuracy \", confusion_matrix[\"accuracy\"]\n",
    "      )\n"
   ]
  },
  {
   "cell_type": "code",
   "execution_count": 38,
   "metadata": {
    "collapsed": false
   },
   "outputs": [
    {
     "data": {
      "text/plain": [
       "{'X^2': 15.14, 'degree_of_freedom': 8, 'p_value': 0.018645248803397005}"
      ]
     },
     "execution_count": 38,
     "metadata": {},
     "output_type": "execute_result"
    }
   ],
   "source": [
    "#Hosmer-Lemeshow Goodness of Fit\n",
    "def chisq(data,groupby,obs,Exp):\n",
    "    chisq_tbl=data.groupby(groupby).apply(lambda x: pd.Series([\n",
    "        np.size(x[obs]),\n",
    "        np.size(x[Exp][x[Exp]==1]),\n",
    "        np.size(x[Exp][x[Exp]==0]),   \n",
    "        np.sum(x[obs]),\n",
    "        (np.sum(1-x[obs]))      \n",
    "        ],\n",
    "        index=([\"cnt\", \"Obs_Resp\", \"Obs_Non_resp\", \"Exp_Resp\", \"Exp_Non_Resp\"])\n",
    "        )).reset_index()\n",
    "    chisq_tbl=chisq_tbl.sort_values(by=groupby,ascending=False)\n",
    "    chisq_value = (\n",
    "        ((chisq_tbl[\"Obs_Resp\"]-chisq_tbl[\"Exp_Resp\"])**2\n",
    "              /chisq_tbl[\"Exp_Resp\"])+\n",
    "        ((chisq_tbl[\"Obs_Non_resp\"]-chisq_tbl[\"Exp_Non_Resp\"])**2\n",
    "              /chisq_tbl[\"Exp_Non_Resp\"])).sum()\n",
    "    \n",
    "    g = len(mydata_dev.decile.value_counts())\n",
    "    \n",
    "    import scipy\n",
    "    pvalue=scipy.stats.chi2.pdf(chisq_value , g-2)\n",
    "    return({\"Chisq_Table\":chisq_tbl,\n",
    "            \"hosmerlem\": {\"degree_of_freedom\": g-2,\n",
    "                          \"X^2\":round(chisq_value,2),\n",
    "                          \"p_value\":pvalue}})\n",
    "\n",
    "chisq_test = chisq(mydata_dev, \"decile\", \"prob\", \"Target\")\n",
    "##chisq_test[\"Chisq_Table\"]\n",
    "chisq_test[\"hosmerlem\"]"
   ]
  },
  {
   "cell_type": "code",
   "execution_count": 39,
   "metadata": {
    "collapsed": false
   },
   "outputs": [
    {
     "data": {
      "text/plain": [
       "0.56807007141293597"
      ]
     },
     "execution_count": 39,
     "metadata": {},
     "output_type": "execute_result"
    }
   ],
   "source": [
    "#Gini inequality\n",
    "def gini(list_of_values):\n",
    "    sorted_list = sorted(list_of_values)\n",
    "    height, area = 0, 0\n",
    "    for value in sorted_list:\n",
    "        height += value\n",
    "        area += height - value / 2.\n",
    "    fair_area = height * len(list_of_values) / 2.\n",
    "    return (fair_area - area) / fair_area\n",
    "\n",
    "gini_coeff = gini(mydata_dev[\"prob\"])\n",
    "gini_coeff\n"
   ]
  },
  {
   "cell_type": "code",
   "execution_count": 40,
   "metadata": {
    "collapsed": true
   },
   "outputs": [],
   "source": [
    "## This code takes too long to execute...as such it is completely commented\n",
    "#Concordance\n",
    "#def concordance(y , yhat):\n",
    "#    Con_Dis_Data = pd.DataFrame()\n",
    "#    Con_Dis_Data[\"y\"] = y\n",
    "#    Con_Dis_Data[\"yhat\"] = yhat\n",
    "#    ones = Con_Dis_Data[Con_Dis_Data[\"y\"] == 1] \n",
    "#    zeros = Con_Dis_Data[Con_Dis_Data[\"y\"] == 0] \n",
    "#    conc=np.zeros([len(zeros),len(ones)]) \n",
    "#    disc=np.zeros([len(zeros),len(ones)]) \n",
    "#    ties=np.zeros([len(zeros),len(ones)]) \n",
    "#    for j in range(len(zeros)):\n",
    "#        for i in range(len(ones)):\n",
    "#            if (ones.iloc[i,1]>zeros.iloc[j,1]):\n",
    "#                conc[j,i]=1 \n",
    "#            elif (ones.iloc[i,1]<zeros.iloc[j,1]): \n",
    "#                disc[j,i]=1 \n",
    "#            elif (ones.iloc[i,1]==zeros.iloc[j,1]): \n",
    "#                ties[j,i]=1 \n",
    "#    Pairs=len(zeros)*len(ones) \n",
    "#    PercentConcordance=((conc)/Pairs).sum()*100 \n",
    "#    PercentDiscordance=((disc)/Pairs).sum()*100 \n",
    "#    PercentTied=((ties)/Pairs).sum()*100 \n",
    "#    return({\"PercentConcordance\":PercentConcordance,\n",
    "#            \"PercentDiscordance\":PercentDiscordance,\n",
    "#           \"PercentTied\":PercentTied,\n",
    "#            \"Pairs\":Pairs})\n",
    "#\n",
    "#concordance(mydata_dev.Target, mydata_dev.prob)"
   ]
  },
  {
   "cell_type": "code",
   "execution_count": 41,
   "metadata": {
    "collapsed": false
   },
   "outputs": [
    {
     "data": {
      "text/plain": [
       "PROF_MISSING    3031\n",
       "SAL_SENP        1978\n",
       "SELF-EMP         991\n",
       "Name: occ_recat, dtype: int64"
      ]
     },
     "execution_count": 41,
     "metadata": {},
     "output_type": "execute_result"
    }
   ],
   "source": [
    "## Model Validation\n",
    "mydata_val[\"occ_recat\"] = mydata_val[\"Occupation\"].map(lambda\n",
    "         x: \"PROF_MISSING\" if (pd.isnull(x) or x == \"PROF\")\n",
    "         else (\"SAL_SENP\" if (x == \"SAL\" or x == \"SENP\")\n",
    "         else \"SELF-EMP\"))\n",
    "mydata_val['occ_recat'].value_counts()\n"
   ]
  },
  {
   "cell_type": "code",
   "execution_count": 42,
   "metadata": {
    "collapsed": false
   },
   "outputs": [
    {
     "data": {
      "text/html": [
       "<table class=\"simpletable\">\n",
       "<caption>Generalized Linear Model Regression Results</caption>\n",
       "<tr>\n",
       "  <th>Dep. Variable:</th>       <td>Target</td>      <th>  No. Observations:  </th>  <td>  6000</td> \n",
       "</tr>\n",
       "<tr>\n",
       "  <th>Model:</th>                 <td>GLM</td>       <th>  Df Residuals:      </th>  <td>  5992</td> \n",
       "</tr>\n",
       "<tr>\n",
       "  <th>Model Family:</th>       <td>Binomial</td>     <th>  Df Model:          </th>  <td>     7</td> \n",
       "</tr>\n",
       "<tr>\n",
       "  <th>Link Function:</th>        <td>logit</td>      <th>  Scale:             </th>    <td>1.0</td>  \n",
       "</tr>\n",
       "<tr>\n",
       "  <th>Method:</th>               <td>IRLS</td>       <th>  Log-Likelihood:    </th> <td> -974.43</td>\n",
       "</tr>\n",
       "<tr>\n",
       "  <th>Date:</th>           <td>Wed, 09 Jan 2019</td> <th>  Deviance:          </th> <td>  1948.9</td>\n",
       "</tr>\n",
       "<tr>\n",
       "  <th>Time:</th>               <td>13:23:29</td>     <th>  Pearson chi2:      </th> <td>5.99e+03</td>\n",
       "</tr>\n",
       "<tr>\n",
       "  <th>No. Iterations:</th>         <td>9</td>        <th>                     </th>     <td> </td>   \n",
       "</tr>\n",
       "</table>\n",
       "<table class=\"simpletable\">\n",
       "<tr>\n",
       "            <td></td>               <th>coef</th>     <th>std err</th>      <th>z</th>      <th>P>|z|</th> <th>[95.0% Conf. Int.]</th> \n",
       "</tr>\n",
       "<tr>\n",
       "  <th>Intercept</th>             <td>   -5.4153</td> <td>    0.501</td> <td>  -10.813</td> <td> 0.000</td> <td>   -6.397    -4.434</td>\n",
       "</tr>\n",
       "<tr>\n",
       "  <th>occ_recat[T.SAL_SENP]</th> <td>   -1.0562</td> <td>    0.173</td> <td>   -6.120</td> <td> 0.000</td> <td>   -1.394    -0.718</td>\n",
       "</tr>\n",
       "<tr>\n",
       "  <th>occ_recat[T.SELF-EMP]</th> <td>    0.4444</td> <td>    0.148</td> <td>    3.000</td> <td> 0.003</td> <td>    0.154     0.735</td>\n",
       "</tr>\n",
       "<tr>\n",
       "  <th>DV_Age</th>                <td>    0.0431</td> <td>    0.012</td> <td>    3.569</td> <td> 0.000</td> <td>    0.019     0.067</td>\n",
       "</tr>\n",
       "<tr>\n",
       "  <th>SCR</th>                   <td>    0.0021</td> <td>    0.000</td> <td>    7.822</td> <td> 0.000</td> <td>    0.002     0.003</td>\n",
       "</tr>\n",
       "<tr>\n",
       "  <th>Bal_cap</th>               <td>-2.698e-06</td> <td> 6.01e-07</td> <td>   -4.488</td> <td> 0.000</td> <td>-3.88e-06 -1.52e-06</td>\n",
       "</tr>\n",
       "<tr>\n",
       "  <th>No_OF_CR_TXNS</th>         <td>    0.0453</td> <td>    0.005</td> <td>    9.960</td> <td> 0.000</td> <td>    0.036     0.054</td>\n",
       "</tr>\n",
       "<tr>\n",
       "  <th>HP_Imputed</th>            <td>   -0.0615</td> <td>    0.008</td> <td>   -8.188</td> <td> 0.000</td> <td>   -0.076    -0.047</td>\n",
       "</tr>\n",
       "</table>"
      ],
      "text/plain": [
       "<class 'statsmodels.iolib.summary.Summary'>\n",
       "\"\"\"\n",
       "                 Generalized Linear Model Regression Results                  \n",
       "==============================================================================\n",
       "Dep. Variable:                 Target   No. Observations:                 6000\n",
       "Model:                            GLM   Df Residuals:                     5992\n",
       "Model Family:                Binomial   Df Model:                            7\n",
       "Link Function:                  logit   Scale:                             1.0\n",
       "Method:                          IRLS   Log-Likelihood:                -974.43\n",
       "Date:                Wed, 09 Jan 2019   Deviance:                       1948.9\n",
       "Time:                        13:23:29   Pearson chi2:                 5.99e+03\n",
       "No. Iterations:                     9                                         \n",
       "=========================================================================================\n",
       "                            coef    std err          z      P>|z|      [95.0% Conf. Int.]\n",
       "-----------------------------------------------------------------------------------------\n",
       "Intercept                -5.4153      0.501    -10.813      0.000        -6.397    -4.434\n",
       "occ_recat[T.SAL_SENP]    -1.0562      0.173     -6.120      0.000        -1.394    -0.718\n",
       "occ_recat[T.SELF-EMP]     0.4444      0.148      3.000      0.003         0.154     0.735\n",
       "DV_Age                    0.0431      0.012      3.569      0.000         0.019     0.067\n",
       "SCR                       0.0021      0.000      7.822      0.000         0.002     0.003\n",
       "Bal_cap               -2.698e-06   6.01e-07     -4.488      0.000     -3.88e-06 -1.52e-06\n",
       "No_OF_CR_TXNS             0.0453      0.005      9.960      0.000         0.036     0.054\n",
       "HP_Imputed               -0.0615      0.008     -8.188      0.000        -0.076    -0.047\n",
       "=========================================================================================\n",
       "\"\"\""
      ]
     },
     "execution_count": 42,
     "metadata": {},
     "output_type": "execute_result"
    }
   ],
   "source": [
    "mylogit_val = sm.glm(formula = \"\"\"Target ~ DV_Age + SCR + Bal_cap \n",
    "        + No_OF_CR_TXNS + occ_recat + HP_Imputed\"\"\" , \n",
    "        data = mydata_val, family=statsmodels.api.families.Binomial()).fit()\n",
    "mylogit_val.summary()"
   ]
  },
  {
   "cell_type": "code",
   "execution_count": 43,
   "metadata": {
    "collapsed": false
   },
   "outputs": [
    {
     "data": {
      "text/html": [
       "<table class=\"simpletable\">\n",
       "<caption>Generalized Linear Model Regression Results</caption>\n",
       "<tr>\n",
       "  <th>Dep. Variable:</th>       <td>Target</td>      <th>  No. Observations:  </th>  <td> 10000</td> \n",
       "</tr>\n",
       "<tr>\n",
       "  <th>Model:</th>                 <td>GLM</td>       <th>  Df Residuals:      </th>  <td>  9992</td> \n",
       "</tr>\n",
       "<tr>\n",
       "  <th>Model Family:</th>       <td>Binomial</td>     <th>  Df Model:          </th>  <td>     7</td> \n",
       "</tr>\n",
       "<tr>\n",
       "  <th>Link Function:</th>        <td>logit</td>      <th>  Scale:             </th>    <td>1.0</td>  \n",
       "</tr>\n",
       "<tr>\n",
       "  <th>Method:</th>               <td>IRLS</td>       <th>  Log-Likelihood:    </th> <td> -1514.9</td>\n",
       "</tr>\n",
       "<tr>\n",
       "  <th>Date:</th>           <td>Wed, 09 Jan 2019</td> <th>  Deviance:          </th> <td>  3029.8</td>\n",
       "</tr>\n",
       "<tr>\n",
       "  <th>Time:</th>               <td>13:23:30</td>     <th>  Pearson chi2:      </th> <td>1.13e+04</td>\n",
       "</tr>\n",
       "<tr>\n",
       "  <th>No. Iterations:</th>         <td>9</td>        <th>                     </th>     <td> </td>   \n",
       "</tr>\n",
       "</table>\n",
       "<table class=\"simpletable\">\n",
       "<tr>\n",
       "            <td></td>               <th>coef</th>     <th>std err</th>      <th>z</th>      <th>P>|z|</th> <th>[95.0% Conf. Int.]</th> \n",
       "</tr>\n",
       "<tr>\n",
       "  <th>Intercept</th>             <td>   -4.7652</td> <td>    0.399</td> <td>  -11.955</td> <td> 0.000</td> <td>   -5.546    -3.984</td>\n",
       "</tr>\n",
       "<tr>\n",
       "  <th>occ_recat[T.SAL_SENP]</th> <td>   -0.9041</td> <td>    0.138</td> <td>   -6.537</td> <td> 0.000</td> <td>   -1.175    -0.633</td>\n",
       "</tr>\n",
       "<tr>\n",
       "  <th>occ_recat[T.SELF-EMP]</th> <td>    0.6564</td> <td>    0.118</td> <td>    5.541</td> <td> 0.000</td> <td>    0.424     0.889</td>\n",
       "</tr>\n",
       "<tr>\n",
       "  <th>DV_Age</th>                <td>    0.0327</td> <td>    0.010</td> <td>    3.288</td> <td> 0.001</td> <td>    0.013     0.052</td>\n",
       "</tr>\n",
       "<tr>\n",
       "  <th>SCR</th>                   <td>    0.0019</td> <td>    0.000</td> <td>    9.019</td> <td> 0.000</td> <td>    0.001     0.002</td>\n",
       "</tr>\n",
       "<tr>\n",
       "  <th>Bal_cap</th>               <td>-3.803e-06</td> <td> 5.28e-07</td> <td>   -7.196</td> <td> 0.000</td> <td>-4.84e-06 -2.77e-06</td>\n",
       "</tr>\n",
       "<tr>\n",
       "  <th>No_OF_CR_TXNS</th>         <td>    0.0360</td> <td>    0.004</td> <td>   10.022</td> <td> 0.000</td> <td>    0.029     0.043</td>\n",
       "</tr>\n",
       "<tr>\n",
       "  <th>HP_Imputed</th>            <td>   -0.0632</td> <td>    0.006</td> <td>  -10.432</td> <td> 0.000</td> <td>   -0.075    -0.051</td>\n",
       "</tr>\n",
       "</table>"
      ],
      "text/plain": [
       "<class 'statsmodels.iolib.summary.Summary'>\n",
       "\"\"\"\n",
       "                 Generalized Linear Model Regression Results                  \n",
       "==============================================================================\n",
       "Dep. Variable:                 Target   No. Observations:                10000\n",
       "Model:                            GLM   Df Residuals:                     9992\n",
       "Model Family:                Binomial   Df Model:                            7\n",
       "Link Function:                  logit   Scale:                             1.0\n",
       "Method:                          IRLS   Log-Likelihood:                -1514.9\n",
       "Date:                Wed, 09 Jan 2019   Deviance:                       3029.8\n",
       "Time:                        13:23:30   Pearson chi2:                 1.13e+04\n",
       "No. Iterations:                     9                                         \n",
       "=========================================================================================\n",
       "                            coef    std err          z      P>|z|      [95.0% Conf. Int.]\n",
       "-----------------------------------------------------------------------------------------\n",
       "Intercept                -4.7652      0.399    -11.955      0.000        -5.546    -3.984\n",
       "occ_recat[T.SAL_SENP]    -0.9041      0.138     -6.537      0.000        -1.175    -0.633\n",
       "occ_recat[T.SELF-EMP]     0.6564      0.118      5.541      0.000         0.424     0.889\n",
       "DV_Age                    0.0327      0.010      3.288      0.001         0.013     0.052\n",
       "SCR                       0.0019      0.000      9.019      0.000         0.001     0.002\n",
       "Bal_cap               -3.803e-06   5.28e-07     -7.196      0.000     -4.84e-06 -2.77e-06\n",
       "No_OF_CR_TXNS             0.0360      0.004     10.022      0.000         0.029     0.043\n",
       "HP_Imputed               -0.0632      0.006    -10.432      0.000        -0.075    -0.051\n",
       "=========================================================================================\n",
       "\"\"\""
      ]
     },
     "execution_count": 43,
     "metadata": {},
     "output_type": "execute_result"
    }
   ],
   "source": [
    "## Development Model Summary\n",
    "mylogit.summary()"
   ]
  }
 ],
 "metadata": {
  "anaconda-cloud": {},
  "kernelspec": {
   "display_name": "Python [conda env:Anaconda3]",
   "language": "python",
   "name": "conda-env-Anaconda3-py"
  },
  "language_info": {
   "codemirror_mode": {
    "name": "ipython",
    "version": 3
   },
   "file_extension": ".py",
   "mimetype": "text/x-python",
   "name": "python",
   "nbconvert_exporter": "python",
   "pygments_lexer": "ipython3",
   "version": "3.5.2"
  }
 },
 "nbformat": 4,
 "nbformat_minor": 1
}
