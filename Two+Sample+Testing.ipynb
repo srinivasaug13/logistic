{
 "cells": [
  {
   "cell_type": "code",
   "execution_count": 1,
   "metadata": {
    "collapsed": true
   },
   "outputs": [],
   "source": [
    "import numpy as np\n",
    "from scipy.stats import ttest_1samp, ttest_ind, mannwhitneyu, levene, shapiro,bartlett\n",
    "from statsmodels.stats.power import ttest_power"
   ]
  },
  {
   "cell_type": "code",
   "execution_count": 2,
   "metadata": {
    "collapsed": true
   },
   "outputs": [],
   "source": [
    "energ = np.array([\n",
    "# energy expenditure in mJ and stature (0=obese, 1=lean)\n",
    "[9.21, 0],\n",
    "[7.53, 1],\n",
    "[7.48, 1],\n",
    "[8.08, 1],\n",
    "[8.09, 1],\n",
    "[10.15, 1],\n",
    "[8.40, 1],\n",
    "[10.88, 1],\n",
    "[6.13, 1],\n",
    "[7.90, 1],\n",
    "[11.51, 0],\n",
    "[12.79, 0],\n",
    "[7.05, 1],\n",
    "[11.85, 0],\n",
    "[9.97, 0],\n",
    "[7.48, 1],\n",
    "[8.79, 0],\n",
    "[9.69, 0],\n",
    "[9.68, 0],\n",
    "[7.58, 1],\n",
    "[9.19, 0],\n",
    "[8.11, 1]])"
   ]
  },
  {
   "cell_type": "code",
   "execution_count": 3,
   "metadata": {
    "collapsed": true
   },
   "outputs": [],
   "source": [
    "# Seperating the data into 2 groups\n",
    "group1 = energ[:, 1] == 0\n"
   ]
  },
  {
   "cell_type": "code",
   "execution_count": 4,
   "metadata": {},
   "outputs": [
    {
     "data": {
      "text/plain": [
       "array([ True, False, False, False, False, False, False, False, False,\n",
       "       False,  True,  True, False,  True,  True, False,  True,  True,\n",
       "        True, False,  True, False])"
      ]
     },
     "execution_count": 4,
     "metadata": {},
     "output_type": "execute_result"
    }
   ],
   "source": [
    "group1"
   ]
  },
  {
   "cell_type": "code",
   "execution_count": 5,
   "metadata": {
    "collapsed": true
   },
   "outputs": [],
   "source": [
    "group1 = energ[group1][:, 0]\n",
    "group2 = energ[:, 1] == 1\n",
    "group2 = energ[group2][:, 0]"
   ]
  },
  {
   "cell_type": "code",
   "execution_count": 6,
   "metadata": {},
   "outputs": [
    {
     "data": {
      "text/plain": [
       "13"
      ]
     },
     "execution_count": 6,
     "metadata": {},
     "output_type": "execute_result"
    }
   ],
   "source": [
    "len(group2)"
   ]
  },
  {
   "cell_type": "code",
   "execution_count": 9,
   "metadata": {},
   "outputs": [
    {
     "data": {
      "text/plain": [
       "(0.8673301935195923, 0.048183370381593704)"
      ]
     },
     "execution_count": 9,
     "metadata": {},
     "output_type": "execute_result"
    }
   ],
   "source": [
    "shapiro(group2)"
   ]
  },
  {
   "cell_type": "code",
   "execution_count": 10,
   "metadata": {},
   "outputs": [
    {
     "data": {
      "text/plain": [
       "LeveneResult(statistic=0.26770858376245593, pvalue=0.6105485798476267)"
      ]
     },
     "execution_count": 10,
     "metadata": {},
     "output_type": "execute_result"
    }
   ],
   "source": [
    "levene(group1,group2)"
   ]
  },
  {
   "cell_type": "code",
   "execution_count": 11,
   "metadata": {},
   "outputs": [
    {
     "data": {
      "text/plain": [
       "BartlettResult(statistic=0.1362399956245557, pvalue=0.7120479531925121)"
      ]
     },
     "execution_count": 11,
     "metadata": {},
     "output_type": "execute_result"
    }
   ],
   "source": [
    "bartlett(group1,group2)"
   ]
  },
  {
   "cell_type": "code",
   "execution_count": 16,
   "metadata": {},
   "outputs": [
    {
     "name": "stdout",
     "output_type": "stream",
     "text": [
      "3.9455649161549835 0.0007989982111700593\n"
     ]
    }
   ],
   "source": [
    "# two-sample t-test\n",
    "# null hypothesis: the two groups have the same mean\n",
    "# this test assumes the two groups have the same variance...\n",
    "# (can be checked with tests for equal variance - Levene)\n",
    "# independent groups: e.g., how boys and girls fare at an exam\n",
    "# dependent groups: e.g., how the same class fare at 2 different exams\n",
    "t_statistic, p_value = ttest_ind(group1, group2)\n",
    "print(t_statistic, p_value)"
   ]
  },
  {
   "cell_type": "code",
   "execution_count": 75,
   "metadata": {},
   "outputs": [
    {
     "name": "stdout",
     "output_type": "stream",
     "text": [
      "two-sample t-test p-value= 0.00079899821117\n"
     ]
    }
   ],
   "source": [
    "# p_value < 0.05 => alternative hypothesis:\n",
    "# they don't have the same mean at the 5% significance level\n",
    "print (\"two-sample t-test p-value=\", p_value)"
   ]
  },
  {
   "cell_type": "code",
   "execution_count": 76,
   "metadata": {},
   "outputs": [
    {
     "name": "stdout",
     "output_type": "stream",
     "text": [
      "two-sample wilcoxon-test p-value= 0.00106080669294\n"
     ]
    }
   ],
   "source": [
    "# two-sample wilcoxon test\n",
    "# a.k.a Mann Whitney U - Used when samples are not normally distributed\n",
    "u, p_value = mannwhitneyu(group1, group2)\n",
    "print (\"two-sample wilcoxon-test p-value=\", p_value)"
   ]
  },
  {
   "cell_type": "code",
   "execution_count": 8,
   "metadata": {
    "collapsed": true
   },
   "outputs": [],
   "source": [
    "# pre and post-surgery energy intake\n",
    "intake = np.array([\n",
    "[5260, 3910],\n",
    "[5470, 4220],\n",
    "[5640, 3885],\n",
    "[6180, 5160],\n",
    "[6390, 5645],\n",
    "[6515, 4680],\n",
    "[6805, 5265],\n",
    "[7515, 5975],\n",
    "[7515, 6790],\n",
    "[8230, 6900],\n",
    "[8770, 7335],\n",
    "])"
   ]
  },
  {
   "cell_type": "code",
   "execution_count": 9,
   "metadata": {
    "collapsed": true
   },
   "outputs": [],
   "source": [
    "# Seperating data into 2 groups\n",
    "pre = intake[:, 0]\n",
    "post = intake[:, 1]"
   ]
  },
  {
   "cell_type": "code",
   "execution_count": 26,
   "metadata": {},
   "outputs": [
    {
     "name": "stdout",
     "output_type": "stream",
     "text": [
      "-11.941392877647603 3.059020942934875e-07\n"
     ]
    }
   ],
   "source": [
    "# paired t-test: doing two measurments on the same experimental unit\n",
    "# e.g., before and after a treatment\n",
    "t_statistic, p_value = ttest_1samp(post - pre, 0)\n",
    "print(t_statistic, p_value)"
   ]
  },
  {
   "cell_type": "code",
   "execution_count": 63,
   "metadata": {},
   "outputs": [
    {
     "name": "stdout",
     "output_type": "stream",
     "text": [
      "paired t-test p-value= 3.05902094293e-07\n"
     ]
    }
   ],
   "source": [
    "# p < 0.05 => alternative hypothesis:\n",
    "# the difference in mean is not equal to 0\n",
    "print (\"paired t-test p-value=\", p_value)"
   ]
  },
  {
   "cell_type": "code",
   "execution_count": 80,
   "metadata": {},
   "outputs": [
    {
     "name": "stdout",
     "output_type": "stream",
     "text": [
      "paired wilcoxon-test p-value= 0.00333001391175\n"
     ]
    }
   ],
   "source": [
    "# alternative to paired t-test when data has an ordinary scale or when not\n",
    "# normally distributed\n",
    "z_statistic, p_value = wilcoxon(post - pre)\n",
    "\n",
    "print (\"paired wilcoxon-test p-value=\", p_value)"
   ]
  },
  {
   "cell_type": "code",
   "execution_count": 28,
   "metadata": {},
   "outputs": [
    {
     "data": {
      "text/plain": [
       "LeveneResult(statistic=0.07826946818973061, pvalue=0.7825293782115069)"
      ]
     },
     "execution_count": 28,
     "metadata": {},
     "output_type": "execute_result"
    }
   ],
   "source": [
    "# For checking equality of variance between groups\n",
    "# Null Hypothesis: Variances are equal\n",
    "levene(pre,post)"
   ]
  },
  {
   "cell_type": "code",
   "execution_count": 27,
   "metadata": {},
   "outputs": [
    {
     "data": {
      "text/plain": [
       "(0.952366054058075, 0.674299418926239)"
      ]
     },
     "execution_count": 27,
     "metadata": {},
     "output_type": "execute_result"
    }
   ],
   "source": [
    "# For checking Normality distribution of each distribution\n",
    "# Null Hypothesis: Distribution is Normal\n",
    "shapiro(pre)"
   ]
  },
  {
   "cell_type": "code",
   "execution_count": 30,
   "metadata": {},
   "outputs": [
    {
     "data": {
      "text/plain": [
       "1185859.5041322312"
      ]
     },
     "execution_count": 30,
     "metadata": {},
     "output_type": "execute_result"
    }
   ],
   "source": [
    "np.std(pre)**2"
   ]
  },
  {
   "cell_type": "code",
   "execution_count": 31,
   "metadata": {},
   "outputs": [
    {
     "data": {
      "text/plain": [
       "1346073.9669421485"
      ]
     },
     "execution_count": 31,
     "metadata": {},
     "output_type": "execute_result"
    }
   ],
   "source": [
    "np.std(post)**2"
   ]
  },
  {
   "cell_type": "code",
   "execution_count": 10,
   "metadata": {},
   "outputs": [
    {
     "data": {
      "text/plain": [
       "0.8703477369680591"
      ]
     },
     "execution_count": 10,
     "metadata": {},
     "output_type": "execute_result"
    }
   ],
   "source": [
    "# Calculating Power of Test\n",
    "# Compute the difference in Means between 2 sample means and divide by pooled Standard Deviation \n",
    "# number of Observations/tuples\n",
    "# Set the alpha value to 0.05 and alternative values 'two-sided' , 'larger' , 'smaller'\n",
    "(np.mean(pre) - np.mean(post)) / np.sqrt(((11-1)*np.var(pre)+(11-1)*np.var(post)) / 11+11-2)\n",
    "\n"
   ]
  },
  {
   "cell_type": "code",
   "execution_count": 11,
   "metadata": {},
   "outputs": [
    {
     "name": "stdout",
     "output_type": "stream",
     "text": [
      "0.7392948947066131\n"
     ]
    }
   ],
   "source": [
    "print(ttest_power(0.87, nobs=11, alpha=0.05, alternative='two-sided'))"
   ]
  },
  {
   "cell_type": "code",
   "execution_count": 18,
   "metadata": {},
   "outputs": [
    {
     "data": {
      "text/plain": [
       "13"
      ]
     },
     "execution_count": 18,
     "metadata": {},
     "output_type": "execute_result"
    }
   ],
   "source": [
    "len(group2)"
   ]
  },
  {
   "cell_type": "code",
   "execution_count": 20,
   "metadata": {},
   "outputs": [
    {
     "data": {
      "text/plain": [
       "0.5874624977414711"
      ]
     },
     "execution_count": 20,
     "metadata": {},
     "output_type": "execute_result"
    }
   ],
   "source": [
    "# Caculating power of test for the energ dataset\n",
    "\n",
    "(np.mean(group1) - np.mean(group2)) / np.sqrt(((9-1)*np.var(group1)+(13-1)*np.var(group2)) / 9+13-2)"
   ]
  },
  {
   "cell_type": "code",
   "execution_count": 19,
   "metadata": {},
   "outputs": [
    {
     "name": "stdout",
     "output_type": "stream",
     "text": [
      "0.7471881196454396\n"
     ]
    }
   ],
   "source": [
    "print(ttest_power(0.587, nobs=22, alpha=0.05, alternative='two-sided'))"
   ]
  }
 ],
 "metadata": {
  "kernelspec": {
   "display_name": "Python 3",
   "language": "python",
   "name": "python3"
  },
  "language_info": {
   "codemirror_mode": {
    "name": "ipython",
    "version": 3
   },
   "file_extension": ".py",
   "mimetype": "text/x-python",
   "name": "python",
   "nbconvert_exporter": "python",
   "pygments_lexer": "ipython3",
   "version": "3.6.3"
  }
 },
 "nbformat": 4,
 "nbformat_minor": 2
}
