{
 "cells": [
  {
   "cell_type": "code",
   "execution_count": 118,
   "metadata": {
    "collapsed": true
   },
   "outputs": [],
   "source": [
    "import numpy as np\n",
    "import pandas as pd\n",
    "from sklearn.neighbors import KNeighborsClassifier\n",
    "from scipy.stats import zscore\n",
    "from sklearn.preprocessing import Imputer\n",
    "from sklearn.metrics import accuracy_score\n",
    "import seaborn as sns\n",
    "import os\n",
    "%matplotlib inline"
   ]
  },
  {
   "cell_type": "code",
   "execution_count": 119,
   "metadata": {
    "collapsed": false
   },
   "outputs": [
    {
     "data": {
      "text/html": [
       "<div>\n",
       "<style scoped>\n",
       "    .dataframe tbody tr th:only-of-type {\n",
       "        vertical-align: middle;\n",
       "    }\n",
       "\n",
       "    .dataframe tbody tr th {\n",
       "        vertical-align: top;\n",
       "    }\n",
       "\n",
       "    .dataframe thead th {\n",
       "        text-align: right;\n",
       "    }\n",
       "</style>\n",
       "<table border=\"1\" class=\"dataframe\">\n",
       "  <thead>\n",
       "    <tr style=\"text-align: right;\">\n",
       "      <th></th>\n",
       "      <th>Cust_ID</th>\n",
       "      <th>Target</th>\n",
       "      <th>Age</th>\n",
       "      <th>Balance</th>\n",
       "      <th>Cnt_Txns</th>\n",
       "      <th>SCR</th>\n",
       "      <th>Holding_Period</th>\n",
       "      <th>Occ_PROF</th>\n",
       "      <th>Occ_SAL</th>\n",
       "      <th>Occ_SELF_EMP</th>\n",
       "      <th>Occ_SENP</th>\n",
       "      <th>F</th>\n",
       "      <th>M</th>\n",
       "      <th>O</th>\n",
       "    </tr>\n",
       "  </thead>\n",
       "  <tbody>\n",
       "    <tr>\n",
       "      <th>0</th>\n",
       "      <td>C16505</td>\n",
       "      <td>0</td>\n",
       "      <td>41</td>\n",
       "      <td>91519.92</td>\n",
       "      <td>38</td>\n",
       "      <td>926</td>\n",
       "      <td>15</td>\n",
       "      <td>0</td>\n",
       "      <td>0</td>\n",
       "      <td>1</td>\n",
       "      <td>0</td>\n",
       "      <td>0</td>\n",
       "      <td>1</td>\n",
       "      <td>0</td>\n",
       "    </tr>\n",
       "    <tr>\n",
       "      <th>1</th>\n",
       "      <td>C17241</td>\n",
       "      <td>0</td>\n",
       "      <td>52</td>\n",
       "      <td>117288.96</td>\n",
       "      <td>17</td>\n",
       "      <td>768</td>\n",
       "      <td>13</td>\n",
       "      <td>0</td>\n",
       "      <td>1</td>\n",
       "      <td>0</td>\n",
       "      <td>0</td>\n",
       "      <td>0</td>\n",
       "      <td>1</td>\n",
       "      <td>0</td>\n",
       "    </tr>\n",
       "    <tr>\n",
       "      <th>2</th>\n",
       "      <td>C18802</td>\n",
       "      <td>0</td>\n",
       "      <td>31</td>\n",
       "      <td>259827.44</td>\n",
       "      <td>8</td>\n",
       "      <td>816</td>\n",
       "      <td>5</td>\n",
       "      <td>0</td>\n",
       "      <td>0</td>\n",
       "      <td>0</td>\n",
       "      <td>1</td>\n",
       "      <td>1</td>\n",
       "      <td>0</td>\n",
       "      <td>0</td>\n",
       "    </tr>\n",
       "    <tr>\n",
       "      <th>3</th>\n",
       "      <td>C19289</td>\n",
       "      <td>0</td>\n",
       "      <td>45</td>\n",
       "      <td>26677.55</td>\n",
       "      <td>14</td>\n",
       "      <td>353</td>\n",
       "      <td>18</td>\n",
       "      <td>1</td>\n",
       "      <td>0</td>\n",
       "      <td>0</td>\n",
       "      <td>0</td>\n",
       "      <td>1</td>\n",
       "      <td>0</td>\n",
       "      <td>0</td>\n",
       "    </tr>\n",
       "    <tr>\n",
       "      <th>4</th>\n",
       "      <td>C14028</td>\n",
       "      <td>0</td>\n",
       "      <td>39</td>\n",
       "      <td>43440.31</td>\n",
       "      <td>1</td>\n",
       "      <td>751</td>\n",
       "      <td>31</td>\n",
       "      <td>0</td>\n",
       "      <td>0</td>\n",
       "      <td>0</td>\n",
       "      <td>1</td>\n",
       "      <td>1</td>\n",
       "      <td>0</td>\n",
       "      <td>0</td>\n",
       "    </tr>\n",
       "  </tbody>\n",
       "</table>\n",
       "</div>"
      ],
      "text/plain": [
       "  Cust_ID  Target  Age    Balance  Cnt_Txns  SCR  Holding_Period  Occ_PROF  \\\n",
       "0  C16505       0   41   91519.92        38  926              15         0   \n",
       "1  C17241       0   52  117288.96        17  768              13         0   \n",
       "2  C18802       0   31  259827.44         8  816               5         0   \n",
       "3  C19289       0   45   26677.55        14  353              18         1   \n",
       "4  C14028       0   39   43440.31         1  751              31         0   \n",
       "\n",
       "   Occ_SAL  Occ_SELF_EMP  Occ_SENP  F  M  O  \n",
       "0        0             1         0  0  1  0  \n",
       "1        1             0         0  0  1  0  \n",
       "2        0             0         1  1  0  0  \n",
       "3        0             0         0  1  0  0  \n",
       "4        0             0         1  1  0  0  "
      ]
     },
     "execution_count": 119,
     "metadata": {},
     "output_type": "execute_result"
    }
   ],
   "source": [
    "## Import the datafile\n",
    "os.chdir(\"D:/K2Analytics/datafile\")\n",
    "train = pd.read_csv(\"DEV_SAMPLE_1HOT_ENCODED.csv\")\n",
    "test = pd.read_csv(\"HOLD_SAMPLE_1HOT_ENCODED.csv\")\n",
    "train.head() "
   ]
  },
  {
   "cell_type": "code",
   "execution_count": 120,
   "metadata": {
    "collapsed": false
   },
   "outputs": [
    {
     "data": {
      "text/plain": [
       "(14000, 14)"
      ]
     },
     "execution_count": 120,
     "metadata": {},
     "output_type": "execute_result"
    }
   ],
   "source": [
    "train.shape"
   ]
  },
  {
   "cell_type": "code",
   "execution_count": 121,
   "metadata": {
    "collapsed": false
   },
   "outputs": [
    {
     "data": {
      "text/plain": [
       "Index(['Cust_ID', 'Target', 'Age', 'Balance', 'Cnt_Txns', 'SCR',\n",
       "       'Holding_Period', 'Occ_PROF', 'Occ_SAL', 'Occ_SELF_EMP', 'Occ_SENP',\n",
       "       'F', 'M', 'O'],\n",
       "      dtype='object')"
      ]
     },
     "execution_count": 121,
     "metadata": {},
     "output_type": "execute_result"
    }
   ],
   "source": [
    "## List the columns in Dev Sample\n",
    "train.columns"
   ]
  },
  {
   "cell_type": "code",
   "execution_count": 122,
   "metadata": {
    "collapsed": false
   },
   "outputs": [
    {
     "data": {
      "text/html": [
       "<div>\n",
       "<style scoped>\n",
       "    .dataframe tbody tr th:only-of-type {\n",
       "        vertical-align: middle;\n",
       "    }\n",
       "\n",
       "    .dataframe tbody tr th {\n",
       "        vertical-align: top;\n",
       "    }\n",
       "\n",
       "    .dataframe thead th {\n",
       "        text-align: right;\n",
       "    }\n",
       "</style>\n",
       "<table border=\"1\" class=\"dataframe\">\n",
       "  <thead>\n",
       "    <tr style=\"text-align: right;\">\n",
       "      <th></th>\n",
       "      <th>Age</th>\n",
       "      <th>Balance</th>\n",
       "      <th>Cnt_Txns</th>\n",
       "      <th>SCR</th>\n",
       "      <th>Holding_Period</th>\n",
       "      <th>Occ_PROF</th>\n",
       "      <th>Occ_SAL</th>\n",
       "      <th>Occ_SELF_EMP</th>\n",
       "      <th>Occ_SENP</th>\n",
       "      <th>F</th>\n",
       "      <th>M</th>\n",
       "      <th>O</th>\n",
       "    </tr>\n",
       "  </thead>\n",
       "  <tbody>\n",
       "    <tr>\n",
       "      <th>0</th>\n",
       "      <td>41</td>\n",
       "      <td>91519.92</td>\n",
       "      <td>38</td>\n",
       "      <td>926</td>\n",
       "      <td>15</td>\n",
       "      <td>0</td>\n",
       "      <td>0</td>\n",
       "      <td>1</td>\n",
       "      <td>0</td>\n",
       "      <td>0</td>\n",
       "      <td>1</td>\n",
       "      <td>0</td>\n",
       "    </tr>\n",
       "    <tr>\n",
       "      <th>1</th>\n",
       "      <td>52</td>\n",
       "      <td>117288.96</td>\n",
       "      <td>17</td>\n",
       "      <td>768</td>\n",
       "      <td>13</td>\n",
       "      <td>0</td>\n",
       "      <td>1</td>\n",
       "      <td>0</td>\n",
       "      <td>0</td>\n",
       "      <td>0</td>\n",
       "      <td>1</td>\n",
       "      <td>0</td>\n",
       "    </tr>\n",
       "    <tr>\n",
       "      <th>2</th>\n",
       "      <td>31</td>\n",
       "      <td>259827.44</td>\n",
       "      <td>8</td>\n",
       "      <td>816</td>\n",
       "      <td>5</td>\n",
       "      <td>0</td>\n",
       "      <td>0</td>\n",
       "      <td>0</td>\n",
       "      <td>1</td>\n",
       "      <td>1</td>\n",
       "      <td>0</td>\n",
       "      <td>0</td>\n",
       "    </tr>\n",
       "    <tr>\n",
       "      <th>3</th>\n",
       "      <td>45</td>\n",
       "      <td>26677.55</td>\n",
       "      <td>14</td>\n",
       "      <td>353</td>\n",
       "      <td>18</td>\n",
       "      <td>1</td>\n",
       "      <td>0</td>\n",
       "      <td>0</td>\n",
       "      <td>0</td>\n",
       "      <td>1</td>\n",
       "      <td>0</td>\n",
       "      <td>0</td>\n",
       "    </tr>\n",
       "    <tr>\n",
       "      <th>4</th>\n",
       "      <td>39</td>\n",
       "      <td>43440.31</td>\n",
       "      <td>1</td>\n",
       "      <td>751</td>\n",
       "      <td>31</td>\n",
       "      <td>0</td>\n",
       "      <td>0</td>\n",
       "      <td>0</td>\n",
       "      <td>1</td>\n",
       "      <td>1</td>\n",
       "      <td>0</td>\n",
       "      <td>0</td>\n",
       "    </tr>\n",
       "  </tbody>\n",
       "</table>\n",
       "</div>"
      ],
      "text/plain": [
       "   Age    Balance  Cnt_Txns  SCR  Holding_Period  Occ_PROF  Occ_SAL  \\\n",
       "0   41   91519.92        38  926              15         0        0   \n",
       "1   52  117288.96        17  768              13         0        1   \n",
       "2   31  259827.44         8  816               5         0        0   \n",
       "3   45   26677.55        14  353              18         1        0   \n",
       "4   39   43440.31         1  751              31         0        0   \n",
       "\n",
       "   Occ_SELF_EMP  Occ_SENP  F  M  O  \n",
       "0             1         0  0  1  0  \n",
       "1             0         0  0  1  0  \n",
       "2             0         1  1  0  0  \n",
       "3             0         0  1  0  0  \n",
       "4             0         1  1  0  0  "
      ]
     },
     "execution_count": 122,
     "metadata": {},
     "output_type": "execute_result"
    }
   ],
   "source": [
    "## drop Customer ID, Target Variables\n",
    "train_pv = train.drop(labels = [\"Cust_ID\", \"Target\"], axis = 1)\n",
    "train_pv.head()"
   ]
  },
  {
   "cell_type": "code",
   "execution_count": 123,
   "metadata": {
    "collapsed": false
   },
   "outputs": [
    {
     "data": {
      "text/plain": [
       "(14000, 12)"
      ]
     },
     "execution_count": 123,
     "metadata": {},
     "output_type": "execute_result"
    }
   ],
   "source": [
    "## scaling all variables\n",
    "train_z_trf = train_pv.apply(zscore)\n",
    "train_z_trf.shape"
   ]
  },
  {
   "cell_type": "code",
   "execution_count": 124,
   "metadata": {
    "collapsed": false
   },
   "outputs": [
    {
     "data": {
      "text/plain": [
       "(14000, 12)"
      ]
     },
     "execution_count": 124,
     "metadata": {},
     "output_type": "execute_result"
    }
   ],
   "source": [
    "## Store the normalized features data into np array\n",
    "X_train = np.array(train_z_trf)\n",
    "X_train.shape"
   ]
  },
  {
   "cell_type": "code",
   "execution_count": 125,
   "metadata": {
    "collapsed": true
   },
   "outputs": [],
   "source": [
    "## Capture the target variable into a pandas series akin to array\n",
    "y_train = train['Target']"
   ]
  },
  {
   "cell_type": "code",
   "execution_count": 126,
   "metadata": {
    "collapsed": false
   },
   "outputs": [
    {
     "data": {
      "text/plain": [
       "KNeighborsClassifier(algorithm='auto', leaf_size=30, metric='euclidean',\n",
       "           metric_params=None, n_jobs=None, n_neighbors=21, p=2,\n",
       "           weights='uniform')"
      ]
     },
     "execution_count": 126,
     "metadata": {},
     "output_type": "execute_result"
    }
   ],
   "source": [
    "## Fit the model\n",
    "NNH.fit(X_train, y_train)"
   ]
  },
  {
   "cell_type": "code",
   "execution_count": 127,
   "metadata": {
    "collapsed": false
   },
   "outputs": [
    {
     "data": {
      "text/plain": [
       "0.84293099647790726"
      ]
     },
     "execution_count": 127,
     "metadata": {},
     "output_type": "execute_result"
    }
   ],
   "source": [
    "# Compute and print AUC score\n",
    "from sklearn.metrics import roc_auc_score\n",
    "auc = roc_auc_score(train[\"Target\"],pd.DataFrame(NNH.predict_proba(X_train))[1])\n",
    "auc"
   ]
  },
  {
   "cell_type": "code",
   "execution_count": 128,
   "metadata": {
    "collapsed": false
   },
   "outputs": [
    {
     "data": {
      "text/plain": [
       "0.73860253810589516"
      ]
     },
     "execution_count": 128,
     "metadata": {},
     "output_type": "execute_result"
    }
   ],
   "source": [
    "## Data Preparation for the Hold Out Sample\n",
    "## Predict the labels on Test Data\n",
    "test_pv = test.drop(labels = [\"Cust_ID\", \"Target\"], axis = 1)\n",
    "X_test = test_pv.apply(zscore)\n",
    "h_auc = roc_auc_score(test[\"Target\"],pd.DataFrame(NNH.predict_proba(X_test))[1])\n",
    "h_auc"
   ]
  },
  {
   "cell_type": "markdown",
   "metadata": {},
   "source": [
    "### Train AUC = 0.85, Test AUC = 0.74\n",
    "### Conclusion: Above Model is Overfitting\n",
    "# GridSearchCV helps Parameter Tuning and Optimize the Model"
   ]
  },
  {
   "cell_type": "code",
   "execution_count": 146,
   "metadata": {
    "collapsed": false
   },
   "outputs": [],
   "source": [
    "from sklearn.model_selection import GridSearchCV\n",
    "\n",
    "k = np.arange(151,163,2)\n",
    "knn = KNeighborsClassifier()\n",
    "parameters = {'n_neighbors' : k, 'algorithm' : ['kd_tree']}\n",
    "#parameters = {'n_neighbors' : k, 'algorithm' : ['kd_tree', 'ball_tree']}\n",
    "GS = GridSearchCV(knn, parameters, scoring = 'roc_auc', cv=3, verbose = 10)"
   ]
  },
  {
   "cell_type": "code",
   "execution_count": 147,
   "metadata": {
    "collapsed": false
   },
   "outputs": [
    {
     "name": "stdout",
     "output_type": "stream",
     "text": [
      "Fitting 3 folds for each of 6 candidates, totalling 18 fits\n",
      "[CV] algorithm=kd_tree, n_neighbors=151 ..............................\n"
     ]
    },
    {
     "name": "stderr",
     "output_type": "stream",
     "text": [
      "[Parallel(n_jobs=1)]: Using backend SequentialBackend with 1 concurrent workers.\n"
     ]
    },
    {
     "name": "stdout",
     "output_type": "stream",
     "text": [
      "[CV]  algorithm=kd_tree, n_neighbors=151, score=0.7531262478181009, total=   1.9s\n",
      "[CV] algorithm=kd_tree, n_neighbors=151 ..............................\n"
     ]
    },
    {
     "name": "stderr",
     "output_type": "stream",
     "text": [
      "[Parallel(n_jobs=1)]: Done   1 out of   1 | elapsed:    5.6s remaining:    0.0s\n"
     ]
    },
    {
     "name": "stdout",
     "output_type": "stream",
     "text": [
      "[CV]  algorithm=kd_tree, n_neighbors=151, score=0.7698504329572292, total=   1.8s\n",
      "[CV] algorithm=kd_tree, n_neighbors=151 ..............................\n"
     ]
    },
    {
     "name": "stderr",
     "output_type": "stream",
     "text": [
      "[Parallel(n_jobs=1)]: Done   2 out of   2 | elapsed:   11.0s remaining:    0.0s\n"
     ]
    },
    {
     "name": "stdout",
     "output_type": "stream",
     "text": [
      "[CV]  algorithm=kd_tree, n_neighbors=151, score=0.7734870382918622, total=   1.9s\n",
      "[CV] algorithm=kd_tree, n_neighbors=153 ..............................\n"
     ]
    },
    {
     "name": "stderr",
     "output_type": "stream",
     "text": [
      "[Parallel(n_jobs=1)]: Done   3 out of   3 | elapsed:   16.6s remaining:    0.0s\n"
     ]
    },
    {
     "name": "stdout",
     "output_type": "stream",
     "text": [
      "[CV]  algorithm=kd_tree, n_neighbors=153, score=0.7528547225993406, total=   1.8s\n",
      "[CV] algorithm=kd_tree, n_neighbors=153 ..............................\n"
     ]
    },
    {
     "name": "stderr",
     "output_type": "stream",
     "text": [
      "[Parallel(n_jobs=1)]: Done   4 out of   4 | elapsed:   22.1s remaining:    0.0s\n"
     ]
    },
    {
     "name": "stdout",
     "output_type": "stream",
     "text": [
      "[CV]  algorithm=kd_tree, n_neighbors=153, score=0.770442255256523, total=   1.9s\n",
      "[CV] algorithm=kd_tree, n_neighbors=153 ..............................\n"
     ]
    },
    {
     "name": "stderr",
     "output_type": "stream",
     "text": [
      "[Parallel(n_jobs=1)]: Done   5 out of   5 | elapsed:   27.8s remaining:    0.0s\n"
     ]
    },
    {
     "name": "stdout",
     "output_type": "stream",
     "text": [
      "[CV]  algorithm=kd_tree, n_neighbors=153, score=0.7743158899934528, total=   2.1s\n",
      "[CV] algorithm=kd_tree, n_neighbors=155 ..............................\n"
     ]
    },
    {
     "name": "stderr",
     "output_type": "stream",
     "text": [
      "[Parallel(n_jobs=1)]: Done   6 out of   6 | elapsed:   33.8s remaining:    0.0s\n"
     ]
    },
    {
     "name": "stdout",
     "output_type": "stream",
     "text": [
      "[CV]  algorithm=kd_tree, n_neighbors=155, score=0.7529882034841934, total=   1.9s\n",
      "[CV] algorithm=kd_tree, n_neighbors=155 ..............................\n"
     ]
    },
    {
     "name": "stderr",
     "output_type": "stream",
     "text": [
      "[Parallel(n_jobs=1)]: Done   7 out of   7 | elapsed:   39.6s remaining:    0.0s\n"
     ]
    },
    {
     "name": "stdout",
     "output_type": "stream",
     "text": [
      "[CV]  algorithm=kd_tree, n_neighbors=155, score=0.7708252997615598, total=   2.0s\n",
      "[CV] algorithm=kd_tree, n_neighbors=155 ..............................\n"
     ]
    },
    {
     "name": "stderr",
     "output_type": "stream",
     "text": [
      "[Parallel(n_jobs=1)]: Done   8 out of   8 | elapsed:   45.3s remaining:    0.0s\n"
     ]
    },
    {
     "name": "stdout",
     "output_type": "stream",
     "text": [
      "[CV]  algorithm=kd_tree, n_neighbors=155, score=0.7746140936239319, total=   2.0s\n",
      "[CV] algorithm=kd_tree, n_neighbors=157 ..............................\n"
     ]
    },
    {
     "name": "stderr",
     "output_type": "stream",
     "text": [
      "[Parallel(n_jobs=1)]: Done   9 out of   9 | elapsed:   51.3s remaining:    0.0s\n"
     ]
    },
    {
     "name": "stdout",
     "output_type": "stream",
     "text": [
      "[CV]  algorithm=kd_tree, n_neighbors=157, score=0.7530021790469237, total=   2.0s\n",
      "[CV] algorithm=kd_tree, n_neighbors=157 ..............................\n",
      "[CV]  algorithm=kd_tree, n_neighbors=157, score=0.7701125460623139, total=   2.1s\n",
      "[CV] algorithm=kd_tree, n_neighbors=157 ..............................\n",
      "[CV]  algorithm=kd_tree, n_neighbors=157, score=0.7738252692552914, total=   2.3s\n",
      "[CV] algorithm=kd_tree, n_neighbors=159 ..............................\n",
      "[CV]  algorithm=kd_tree, n_neighbors=159, score=0.7520986161340741, total=   2.3s\n",
      "[CV] algorithm=kd_tree, n_neighbors=159 ..............................\n",
      "[CV]  algorithm=kd_tree, n_neighbors=159, score=0.770718629139904, total=   2.0s\n",
      "[CV] algorithm=kd_tree, n_neighbors=159 ..............................\n",
      "[CV]  algorithm=kd_tree, n_neighbors=159, score=0.7749874914584531, total=   1.9s\n",
      "[CV] algorithm=kd_tree, n_neighbors=161 ..............................\n",
      "[CV]  algorithm=kd_tree, n_neighbors=161, score=0.7522412239170364, total=   2.0s\n",
      "[CV] algorithm=kd_tree, n_neighbors=161 ..............................\n",
      "[CV]  algorithm=kd_tree, n_neighbors=161, score=0.7705800143748646, total=   2.1s\n",
      "[CV] algorithm=kd_tree, n_neighbors=161 ..............................\n",
      "[CV]  algorithm=kd_tree, n_neighbors=161, score=0.7755169958914802, total=   1.9s\n"
     ]
    },
    {
     "name": "stderr",
     "output_type": "stream",
     "text": [
      "[Parallel(n_jobs=1)]: Done  18 out of  18 | elapsed:  1.7min finished\n"
     ]
    },
    {
     "data": {
      "text/plain": [
       "GridSearchCV(cv=3, error_score='raise-deprecating',\n",
       "       estimator=KNeighborsClassifier(algorithm='auto', leaf_size=30, metric='minkowski',\n",
       "           metric_params=None, n_jobs=None, n_neighbors=5, p=2,\n",
       "           weights='uniform'),\n",
       "       fit_params=None, iid='warn', n_jobs=None,\n",
       "       param_grid={'algorithm': ['kd_tree'], 'n_neighbors': array([151, 153, 155, 157, 159, 161])},\n",
       "       pre_dispatch='2*n_jobs', refit=True, return_train_score='warn',\n",
       "       scoring='roc_auc', verbose=10)"
      ]
     },
     "execution_count": 147,
     "metadata": {},
     "output_type": "execute_result"
    }
   ],
   "source": [
    "GS.fit(X_train, y_train)"
   ]
  },
  {
   "cell_type": "code",
   "execution_count": 148,
   "metadata": {
    "collapsed": false
   },
   "outputs": [
    {
     "data": {
      "text/plain": [
       "{'algorithm': 'kd_tree', 'n_neighbors': 155}"
      ]
     },
     "execution_count": 148,
     "metadata": {},
     "output_type": "execute_result"
    }
   ],
   "source": [
    "GS.best_params_"
   ]
  },
  {
   "cell_type": "code",
   "execution_count": 132,
   "metadata": {
    "collapsed": false
   },
   "outputs": [
    {
     "data": {
      "text/plain": [
       "0.76567308644487397"
      ]
     },
     "execution_count": 132,
     "metadata": {},
     "output_type": "execute_result"
    }
   ],
   "source": [
    "GS.best_score_"
   ]
  },
  {
   "cell_type": "code",
   "execution_count": 133,
   "metadata": {
    "collapsed": false
   },
   "outputs": [
    {
     "data": {
      "text/plain": [
       "0.76549527809529661"
      ]
     },
     "execution_count": 133,
     "metadata": {},
     "output_type": "execute_result"
    }
   ],
   "source": [
    "## Hold Out Model Performance - AUC\n",
    "hold_out['prob'] = pd.DataFrame(GS.predict_proba(X_test))[1]\n",
    "h_auc = roc_auc_score(hold_out[\"Target\"],hold_out[\"prob\"])\n",
    "h_auc"
   ]
  },
  {
   "cell_type": "markdown",
   "metadata": {},
   "source": [
    "## RandomSearchCV"
   ]
  },
  {
   "cell_type": "code",
   "execution_count": 152,
   "metadata": {
    "collapsed": true
   },
   "outputs": [],
   "source": [
    "from sklearn.model_selection import RandomizedSearchCV\n",
    "k = np.arange(51,201,2)\n",
    "knn = KNeighborsClassifier()\n",
    "parameters = {'n_neighbors' : k, 'algorithm' : ['kd_tree', 'ball_tree']}\n",
    "RS = RandomizedSearchCV(knn, parameters, n_iter=10, scoring = 'roc_auc', cv=3, verbose = 10)"
   ]
  },
  {
   "cell_type": "code",
   "execution_count": 153,
   "metadata": {
    "collapsed": false
   },
   "outputs": [
    {
     "name": "stdout",
     "output_type": "stream",
     "text": [
      "Fitting 3 folds for each of 10 candidates, totalling 30 fits\n",
      "[CV] algorithm=kd_tree, n_neighbors=121 ..............................\n"
     ]
    },
    {
     "name": "stderr",
     "output_type": "stream",
     "text": [
      "[Parallel(n_jobs=1)]: Using backend SequentialBackend with 1 concurrent workers.\n"
     ]
    },
    {
     "name": "stdout",
     "output_type": "stream",
     "text": [
      "[CV]  algorithm=kd_tree, n_neighbors=121, score=0.7545674420727185, total=   1.6s\n",
      "[CV] algorithm=kd_tree, n_neighbors=121 ..............................\n"
     ]
    },
    {
     "name": "stderr",
     "output_type": "stream",
     "text": [
      "[Parallel(n_jobs=1)]: Done   1 out of   1 | elapsed:    4.6s remaining:    0.0s\n"
     ]
    },
    {
     "name": "stdout",
     "output_type": "stream",
     "text": [
      "[CV]  algorithm=kd_tree, n_neighbors=121, score=0.7676673930156412, total=   1.7s\n",
      "[CV] algorithm=kd_tree, n_neighbors=121 ..............................\n"
     ]
    },
    {
     "name": "stderr",
     "output_type": "stream",
     "text": [
      "[Parallel(n_jobs=1)]: Done   2 out of   2 | elapsed:    9.6s remaining:    0.0s\n"
     ]
    },
    {
     "name": "stdout",
     "output_type": "stream",
     "text": [
      "[CV]  algorithm=kd_tree, n_neighbors=121, score=0.7733317894219195, total=   1.5s\n",
      "[CV] algorithm=ball_tree, n_neighbors=169 ............................\n"
     ]
    },
    {
     "name": "stderr",
     "output_type": "stream",
     "text": [
      "[Parallel(n_jobs=1)]: Done   3 out of   3 | elapsed:   14.2s remaining:    0.0s\n"
     ]
    },
    {
     "name": "stdout",
     "output_type": "stream",
     "text": [
      "[CV]  algorithm=ball_tree, n_neighbors=169, score=0.7522882844854141, total=   1.4s\n",
      "[CV] algorithm=ball_tree, n_neighbors=169 ............................\n"
     ]
    },
    {
     "name": "stderr",
     "output_type": "stream",
     "text": [
      "[Parallel(n_jobs=1)]: Done   4 out of   4 | elapsed:   18.6s remaining:    0.0s\n"
     ]
    },
    {
     "name": "stdout",
     "output_type": "stream",
     "text": [
      "[CV]  algorithm=ball_tree, n_neighbors=169, score=0.7699411315071932, total=   1.5s\n",
      "[CV] algorithm=ball_tree, n_neighbors=169 ............................\n"
     ]
    },
    {
     "name": "stderr",
     "output_type": "stream",
     "text": [
      "[Parallel(n_jobs=1)]: Done   5 out of   5 | elapsed:   23.0s remaining:    0.0s\n"
     ]
    },
    {
     "name": "stdout",
     "output_type": "stream",
     "text": [
      "[CV]  algorithm=ball_tree, n_neighbors=169, score=0.7738184074267858, total=   1.5s\n",
      "[CV] algorithm=ball_tree, n_neighbors=83 .............................\n"
     ]
    },
    {
     "name": "stderr",
     "output_type": "stream",
     "text": [
      "[Parallel(n_jobs=1)]: Done   6 out of   6 | elapsed:   27.4s remaining:    0.0s\n"
     ]
    },
    {
     "name": "stdout",
     "output_type": "stream",
     "text": [
      "[CV]  algorithm=ball_tree, n_neighbors=83, score=0.7494977353884066, total=   1.3s\n",
      "[CV] algorithm=ball_tree, n_neighbors=83 .............................\n"
     ]
    },
    {
     "name": "stderr",
     "output_type": "stream",
     "text": [
      "[Parallel(n_jobs=1)]: Done   7 out of   7 | elapsed:   31.2s remaining:    0.0s\n"
     ]
    },
    {
     "name": "stdout",
     "output_type": "stream",
     "text": [
      "[CV]  algorithm=ball_tree, n_neighbors=83, score=0.7684177951695891, total=   1.3s\n",
      "[CV] algorithm=ball_tree, n_neighbors=83 .............................\n"
     ]
    },
    {
     "name": "stderr",
     "output_type": "stream",
     "text": [
      "[Parallel(n_jobs=1)]: Done   8 out of   8 | elapsed:   35.4s remaining:    0.0s\n"
     ]
    },
    {
     "name": "stdout",
     "output_type": "stream",
     "text": [
      "[CV]  algorithm=ball_tree, n_neighbors=83, score=0.7704766969444851, total=   1.3s\n",
      "[CV] algorithm=ball_tree, n_neighbors=115 ............................\n"
     ]
    },
    {
     "name": "stderr",
     "output_type": "stream",
     "text": [
      "[Parallel(n_jobs=1)]: Done   9 out of   9 | elapsed:   39.3s remaining:    0.0s\n"
     ]
    },
    {
     "name": "stdout",
     "output_type": "stream",
     "text": [
      "[CV]  algorithm=ball_tree, n_neighbors=115, score=0.7538894846725154, total=   1.4s\n",
      "[CV] algorithm=ball_tree, n_neighbors=115 ............................\n",
      "[CV]  algorithm=ball_tree, n_neighbors=115, score=0.7680301872154974, total=   1.5s\n",
      "[CV] algorithm=ball_tree, n_neighbors=115 ............................\n",
      "[CV]  algorithm=ball_tree, n_neighbors=115, score=0.7723139515268997, total=   1.4s\n",
      "[CV] algorithm=kd_tree, n_neighbors=51 ...............................\n",
      "[CV]  algorithm=kd_tree, n_neighbors=51, score=0.742183382200267, total=   1.2s\n",
      "[CV] algorithm=kd_tree, n_neighbors=51 ...............................\n",
      "[CV]  algorithm=kd_tree, n_neighbors=51, score=0.7656252495636201, total=   1.1s\n",
      "[CV] algorithm=kd_tree, n_neighbors=51 ...............................\n",
      "[CV]  algorithm=kd_tree, n_neighbors=51, score=0.7622965396370665, total=   1.1s\n",
      "[CV] algorithm=kd_tree, n_neighbors=99 ...............................\n",
      "[CV]  algorithm=kd_tree, n_neighbors=99, score=0.7515284702177907, total=   1.4s\n",
      "[CV] algorithm=kd_tree, n_neighbors=99 ...............................\n",
      "[CV]  algorithm=kd_tree, n_neighbors=99, score=0.7686673587897733, total=   1.4s\n",
      "[CV] algorithm=kd_tree, n_neighbors=99 ...............................\n",
      "[CV]  algorithm=kd_tree, n_neighbors=99, score=0.7732385829180497, total=   1.5s\n",
      "[CV] algorithm=kd_tree, n_neighbors=191 ..............................\n",
      "[CV]  algorithm=kd_tree, n_neighbors=191, score=0.7486686137382633, total=   1.8s\n",
      "[CV] algorithm=kd_tree, n_neighbors=191 ..............................\n",
      "[CV]  algorithm=kd_tree, n_neighbors=191, score=0.7723674603265148, total=   1.8s\n",
      "[CV] algorithm=kd_tree, n_neighbors=191 ..............................\n",
      "[CV]  algorithm=kd_tree, n_neighbors=191, score=0.7749345981970545, total=   1.8s\n",
      "[CV] algorithm=kd_tree, n_neighbors=97 ...............................\n",
      "[CV]  algorithm=kd_tree, n_neighbors=97, score=0.751614320103134, total=   1.5s\n",
      "[CV] algorithm=kd_tree, n_neighbors=97 ...............................\n",
      "[CV]  algorithm=kd_tree, n_neighbors=97, score=0.7671357512007575, total=   1.4s\n",
      "[CV] algorithm=kd_tree, n_neighbors=97 ...............................\n",
      "[CV]  algorithm=kd_tree, n_neighbors=97, score=0.7733723885739118, total=   1.7s\n",
      "[CV] algorithm=kd_tree, n_neighbors=61 ...............................\n",
      "[CV]  algorithm=kd_tree, n_neighbors=61, score=0.7409067573271879, total=   1.3s\n",
      "[CV] algorithm=kd_tree, n_neighbors=61 ...............................\n",
      "[CV]  algorithm=kd_tree, n_neighbors=61, score=0.7680983537357535, total=   1.5s\n",
      "[CV] algorithm=kd_tree, n_neighbors=61 ...............................\n",
      "[CV]  algorithm=kd_tree, n_neighbors=61, score=0.7672899494226056, total=   1.2s\n",
      "[CV] algorithm=kd_tree, n_neighbors=133 ..............................\n",
      "[CV]  algorithm=kd_tree, n_neighbors=133, score=0.7549279545480475, total=   1.7s\n",
      "[CV] algorithm=kd_tree, n_neighbors=133 ..............................\n",
      "[CV]  algorithm=kd_tree, n_neighbors=133, score=0.7696365212827855, total=   1.6s\n",
      "[CV] algorithm=kd_tree, n_neighbors=133 ..............................\n",
      "[CV]  algorithm=kd_tree, n_neighbors=133, score=0.7736600135521112, total=   1.6s\n"
     ]
    },
    {
     "name": "stderr",
     "output_type": "stream",
     "text": [
      "[Parallel(n_jobs=1)]: Done  30 out of  30 | elapsed:  2.2min finished\n"
     ]
    },
    {
     "data": {
      "text/plain": [
       "RandomizedSearchCV(cv=3, error_score='raise-deprecating',\n",
       "          estimator=KNeighborsClassifier(algorithm='auto', leaf_size=30, metric='minkowski',\n",
       "           metric_params=None, n_jobs=None, n_neighbors=5, p=2,\n",
       "           weights='uniform'),\n",
       "          fit_params=None, iid='warn', n_iter=10, n_jobs=None,\n",
       "          param_distributions={'algorithm': ['kd_tree', 'ball_tree'], 'n_neighbors': array([ 51,  53, ..., 197, 199])},\n",
       "          pre_dispatch='2*n_jobs', random_state=None, refit=True,\n",
       "          return_train_score='warn', scoring='roc_auc', verbose=10)"
      ]
     },
     "execution_count": 153,
     "metadata": {},
     "output_type": "execute_result"
    }
   ],
   "source": [
    "RS.fit(X_train, y_train)"
   ]
  },
  {
   "cell_type": "code",
   "execution_count": 154,
   "metadata": {
    "collapsed": false
   },
   "outputs": [
    {
     "data": {
      "text/plain": [
       "{'algorithm': 'kd_tree', 'n_neighbors': 133}"
      ]
     },
     "execution_count": 154,
     "metadata": {},
     "output_type": "execute_result"
    }
   ],
   "source": [
    "RS.best_params_"
   ]
  }
 ],
 "metadata": {
  "anaconda-cloud": {},
  "kernelspec": {
   "display_name": "Python [conda env:Anaconda3]",
   "language": "python",
   "name": "conda-env-Anaconda3-py"
  },
  "language_info": {
   "codemirror_mode": {
    "name": "ipython",
    "version": 3
   },
   "file_extension": ".py",
   "mimetype": "text/x-python",
   "name": "python",
   "nbconvert_exporter": "python",
   "pygments_lexer": "ipython3",
   "version": "3.5.6"
  }
 },
 "nbformat": 4,
 "nbformat_minor": 1
}
